{
 "cells": [
  {
   "cell_type": "markdown",
   "id": "35c9fadd",
   "metadata": {},
   "source": [
    "# Importing the Libraries\n"
   ]
  },
  {
   "cell_type": "code",
   "execution_count": 2,
   "id": "dd75b09b",
   "metadata": {},
   "outputs": [],
   "source": [
    "import pandas as pd\n",
    "import matplotlib.pyplot as plt\n",
    "import seaborn as sns\n",
    "import spacy\n",
    "from spacy import displacy\n",
    "from spacy import tokenizer\n",
    "import re\n",
    "import nltk\n",
    "from nltk.tokenize import word_tokenize\n",
    "from nltk.stem import PorterStemmer,WordNetLemmatizer\n",
    "from nltk.corpus import stopwords\n",
    "from vaderSentiment.vaderSentiment import SentimentIntensityAnalyzer\n",
    "import gensim \n",
    "import gensim.corpora as corpora \n",
    "from gensim.models.coherencemodel import CoherenceModel\n",
    "from gensim.models import LsiModel,TfidfModel\n",
    "from sklearn.feature_extraction.text import TfidfVectorizer\n",
    "from sklearn.feature_extraction.text import CountVectorizer\n",
    "from sklearn.model_selection import train_test_split\n",
    "from sklearn.linear_model import LogisticRegression,SGDClassifier\n",
    "from sklearn.metrics import accuracy_score,classification_report"
   ]
  },
  {
   "cell_type": "code",
   "execution_count": 3,
   "id": "42f21d45",
   "metadata": {},
   "outputs": [],
   "source": [
    "# set plot options\n",
    "\n",
    "plt.rcParams[\"figure.figsize\"]=(12,8)\n",
    "default_plot_colour=\"#00bfbf\""
   ]
  },
  {
   "cell_type": "markdown",
   "id": "c89f816a",
   "metadata": {},
   "source": [
    "## Loading the Data"
   ]
  },
  {
   "cell_type": "code",
   "execution_count": 4,
   "id": "bdbb8058",
   "metadata": {},
   "outputs": [],
   "source": [
    "data=pd.read_csv(\"fake_news_data.csv\")"
   ]
  },
  {
   "cell_type": "code",
   "execution_count": 5,
   "id": "c623971c",
   "metadata": {},
   "outputs": [
    {
     "data": {
      "text/html": [
       "<div>\n",
       "<style scoped>\n",
       "    .dataframe tbody tr th:only-of-type {\n",
       "        vertical-align: middle;\n",
       "    }\n",
       "\n",
       "    .dataframe tbody tr th {\n",
       "        vertical-align: top;\n",
       "    }\n",
       "\n",
       "    .dataframe thead th {\n",
       "        text-align: right;\n",
       "    }\n",
       "</style>\n",
       "<table border=\"1\" class=\"dataframe\">\n",
       "  <thead>\n",
       "    <tr style=\"text-align: right;\">\n",
       "      <th></th>\n",
       "      <th>title</th>\n",
       "      <th>text</th>\n",
       "      <th>date</th>\n",
       "      <th>fake_or_factual</th>\n",
       "    </tr>\n",
       "  </thead>\n",
       "  <tbody>\n",
       "    <tr>\n",
       "      <th>0</th>\n",
       "      <td>HOLLYWEIRD LIB SUSAN SARANDON Compares Muslim ...</td>\n",
       "      <td>There are two small problems with your analogy...</td>\n",
       "      <td>Dec 30, 2015</td>\n",
       "      <td>Fake News</td>\n",
       "    </tr>\n",
       "    <tr>\n",
       "      <th>1</th>\n",
       "      <td>Elijah Cummings Called Trump Out To His Face ...</td>\n",
       "      <td>Buried in Trump s bonkers interview with New Y...</td>\n",
       "      <td>April 6, 2017</td>\n",
       "      <td>Fake News</td>\n",
       "    </tr>\n",
       "    <tr>\n",
       "      <th>2</th>\n",
       "      <td>Hillary Clinton Says Half Her Cabinet Will Be...</td>\n",
       "      <td>Women make up over 50 percent of this country,...</td>\n",
       "      <td>April 26, 2016</td>\n",
       "      <td>Fake News</td>\n",
       "    </tr>\n",
       "    <tr>\n",
       "      <th>3</th>\n",
       "      <td>Russian bombing of U.S.-backed forces being di...</td>\n",
       "      <td>WASHINGTON (Reuters) - U.S. Defense Secretary ...</td>\n",
       "      <td>September 18, 2017</td>\n",
       "      <td>Factual News</td>\n",
       "    </tr>\n",
       "    <tr>\n",
       "      <th>4</th>\n",
       "      <td>Britain says window to restore Northern Irelan...</td>\n",
       "      <td>BELFAST (Reuters) - Northern Ireland s politic...</td>\n",
       "      <td>September 4, 2017</td>\n",
       "      <td>Factual News</td>\n",
       "    </tr>\n",
       "  </tbody>\n",
       "</table>\n",
       "</div>"
      ],
      "text/plain": [
       "                                               title  \\\n",
       "0  HOLLYWEIRD LIB SUSAN SARANDON Compares Muslim ...   \n",
       "1   Elijah Cummings Called Trump Out To His Face ...   \n",
       "2   Hillary Clinton Says Half Her Cabinet Will Be...   \n",
       "3  Russian bombing of U.S.-backed forces being di...   \n",
       "4  Britain says window to restore Northern Irelan...   \n",
       "\n",
       "                                                text                 date  \\\n",
       "0  There are two small problems with your analogy...         Dec 30, 2015   \n",
       "1  Buried in Trump s bonkers interview with New Y...        April 6, 2017   \n",
       "2  Women make up over 50 percent of this country,...       April 26, 2016   \n",
       "3  WASHINGTON (Reuters) - U.S. Defense Secretary ...  September 18, 2017    \n",
       "4  BELFAST (Reuters) - Northern Ireland s politic...   September 4, 2017    \n",
       "\n",
       "  fake_or_factual  \n",
       "0       Fake News  \n",
       "1       Fake News  \n",
       "2       Fake News  \n",
       "3    Factual News  \n",
       "4    Factual News  "
      ]
     },
     "execution_count": 5,
     "metadata": {},
     "output_type": "execute_result"
    }
   ],
   "source": [
    "data.head()"
   ]
  },
  {
   "cell_type": "code",
   "execution_count": 6,
   "id": "2acc3516",
   "metadata": {},
   "outputs": [
    {
     "name": "stdout",
     "output_type": "stream",
     "text": [
      "<class 'pandas.core.frame.DataFrame'>\n",
      "RangeIndex: 198 entries, 0 to 197\n",
      "Data columns (total 4 columns):\n",
      " #   Column           Non-Null Count  Dtype \n",
      "---  ------           --------------  ----- \n",
      " 0   title            198 non-null    object\n",
      " 1   text             198 non-null    object\n",
      " 2   date             198 non-null    object\n",
      " 3   fake_or_factual  198 non-null    object\n",
      "dtypes: object(4)\n",
      "memory usage: 6.3+ KB\n"
     ]
    }
   ],
   "source": [
    "data.info()"
   ]
  },
  {
   "cell_type": "code",
   "execution_count": 7,
   "id": "f3a39e36",
   "metadata": {},
   "outputs": [
    {
     "data": {
      "text/plain": [
       "Text(0.5, 1.0, 'Count of Article Classification')"
      ]
     },
     "execution_count": 7,
     "metadata": {},
     "output_type": "execute_result"
    },
    {
     "data": {
      "image/png": "[encoded data removed]",
      "text/plain": [
       "<Figure size 1200x800 with 1 Axes>"
      ]
     },
     "metadata": {},
     "output_type": "display_data"
    }
   ],
   "source": [
    "data[\"fake_or_factual\"].value_counts().plot(kind=\"bar\",color=default_plot_colour)\n",
    "plt.title(\"Count of Article Classification\")"
   ]
  },
  {
   "cell_type": "markdown",
   "id": "054d19a6",
   "metadata": {},
   "source": [
    "## Pos Tagging"
   ]
  },
  {
   "cell_type": "code",
   "execution_count": 8,
   "id": "430bb6fd",
   "metadata": {},
   "outputs": [],
   "source": [
    "nlp=spacy.load(\"en_core_web_sm\")"
   ]
  },
  {
   "cell_type": "code",
   "execution_count": 9,
   "id": "88e68aee",
   "metadata": {},
   "outputs": [],
   "source": [
    "fake_news=data[data[\"fake_or_factual\"]==\"Fake News\"]\n"
   ]
  },
  {
   "cell_type": "code",
   "execution_count": 13,
   "id": "aea647c2",
   "metadata": {},
   "outputs": [
    {
     "data": {
      "text/html": [
       "<div>\n",
       "<style scoped>\n",
       "    .dataframe tbody tr th:only-of-type {\n",
       "        vertical-align: middle;\n",
       "    }\n",
       "\n",
       "    .dataframe tbody tr th {\n",
       "        vertical-align: top;\n",
       "    }\n",
       "\n",
       "    .dataframe thead th {\n",
       "        text-align: right;\n",
       "    }\n",
       "</style>\n",
       "<table border=\"1\" class=\"dataframe\">\n",
       "  <thead>\n",
       "    <tr style=\"text-align: right;\">\n",
       "      <th></th>\n",
       "      <th>title</th>\n",
       "      <th>text</th>\n",
       "      <th>date</th>\n",
       "      <th>fake_or_factual</th>\n",
       "    </tr>\n",
       "  </thead>\n",
       "  <tbody>\n",
       "    <tr>\n",
       "      <th>0</th>\n",
       "      <td>HOLLYWEIRD LIB SUSAN SARANDON Compares Muslim ...</td>\n",
       "      <td>There are two small problems with your analogy...</td>\n",
       "      <td>Dec 30, 2015</td>\n",
       "      <td>Fake News</td>\n",
       "    </tr>\n",
       "    <tr>\n",
       "      <th>1</th>\n",
       "      <td>Elijah Cummings Called Trump Out To His Face ...</td>\n",
       "      <td>Buried in Trump s bonkers interview with New Y...</td>\n",
       "      <td>April 6, 2017</td>\n",
       "      <td>Fake News</td>\n",
       "    </tr>\n",
       "    <tr>\n",
       "      <th>2</th>\n",
       "      <td>Hillary Clinton Says Half Her Cabinet Will Be...</td>\n",
       "      <td>Women make up over 50 percent of this country,...</td>\n",
       "      <td>April 26, 2016</td>\n",
       "      <td>Fake News</td>\n",
       "    </tr>\n",
       "    <tr>\n",
       "      <th>5</th>\n",
       "      <td>Maxine Waters Makes Teens Chant ‘Impeach 45′ a...</td>\n",
       "      <td>Shame on Teen Vogue! Maxine Waters was a guest...</td>\n",
       "      <td>Dec 10, 2017</td>\n",
       "      <td>Fake News</td>\n",
       "    </tr>\n",
       "    <tr>\n",
       "      <th>6</th>\n",
       "      <td>Jay Carney Let It Slip That He Knows Who Obam...</td>\n",
       "      <td>Former White House Press Secretary in the Obam...</td>\n",
       "      <td>February 10, 2016</td>\n",
       "      <td>Fake News</td>\n",
       "    </tr>\n",
       "    <tr>\n",
       "      <th>...</th>\n",
       "      <td>...</td>\n",
       "      <td>...</td>\n",
       "      <td>...</td>\n",
       "      <td>...</td>\n",
       "    </tr>\n",
       "    <tr>\n",
       "      <th>191</th>\n",
       "      <td>Terrorist Jon Ritzheimer Uses Sobbing Daughte...</td>\n",
       "      <td>Jon Ritzheimer, infamous hater of Muslims and ...</td>\n",
       "      <td>January 26, 2016</td>\n",
       "      <td>Fake News</td>\n",
       "    </tr>\n",
       "    <tr>\n",
       "      <th>193</th>\n",
       "      <td>AND SO IT BEGINS…INSPIRED BY GAY MARRIAGE RULI...</td>\n",
       "      <td>Well, that didn t take long. Look for the firs...</td>\n",
       "      <td>Jul 2, 2015</td>\n",
       "      <td>Fake News</td>\n",
       "    </tr>\n",
       "    <tr>\n",
       "      <th>194</th>\n",
       "      <td>‘Stand Your Ground’: FL Man Shoots At Teens P...</td>\n",
       "      <td>Florida s toxic and dangerous  stand your grou...</td>\n",
       "      <td>July 17, 2016</td>\n",
       "      <td>Fake News</td>\n",
       "    </tr>\n",
       "    <tr>\n",
       "      <th>195</th>\n",
       "      <td>The Los Angeles Times Endorses Hillary Clinto...</td>\n",
       "      <td>As Politico reports an almost neck-and-neck ra...</td>\n",
       "      <td>May 30, 2016</td>\n",
       "      <td>Fake News</td>\n",
       "    </tr>\n",
       "    <tr>\n",
       "      <th>197</th>\n",
       "      <td>UNBELIEVABLE! Students Succeed In Removing US ...</td>\n",
       "      <td>This is not some small obscure community colle...</td>\n",
       "      <td>Oct 28, 2015</td>\n",
       "      <td>Fake News</td>\n",
       "    </tr>\n",
       "  </tbody>\n",
       "</table>\n",
       "<p>98 rows × 4 columns</p>\n",
       "</div>"
      ],
      "text/plain": [
       "                                                 title  \\\n",
       "0    HOLLYWEIRD LIB SUSAN SARANDON Compares Muslim ...   \n",
       "1     Elijah Cummings Called Trump Out To His Face ...   \n",
       "2     Hillary Clinton Says Half Her Cabinet Will Be...   \n",
       "5    Maxine Waters Makes Teens Chant ‘Impeach 45′ a...   \n",
       "6     Jay Carney Let It Slip That He Knows Who Obam...   \n",
       "..                                                 ...   \n",
       "191   Terrorist Jon Ritzheimer Uses Sobbing Daughte...   \n",
       "193  AND SO IT BEGINS…INSPIRED BY GAY MARRIAGE RULI...   \n",
       "194   ‘Stand Your Ground’: FL Man Shoots At Teens P...   \n",
       "195   The Los Angeles Times Endorses Hillary Clinto...   \n",
       "197  UNBELIEVABLE! Students Succeed In Removing US ...   \n",
       "\n",
       "                                                  text               date  \\\n",
       "0    There are two small problems with your analogy...       Dec 30, 2015   \n",
       "1    Buried in Trump s bonkers interview with New Y...      April 6, 2017   \n",
       "2    Women make up over 50 percent of this country,...     April 26, 2016   \n",
       "5    Shame on Teen Vogue! Maxine Waters was a guest...       Dec 10, 2017   \n",
       "6    Former White House Press Secretary in the Obam...  February 10, 2016   \n",
       "..                                                 ...                ...   \n",
       "191  Jon Ritzheimer, infamous hater of Muslims and ...   January 26, 2016   \n",
       "193  Well, that didn t take long. Look for the firs...        Jul 2, 2015   \n",
       "194  Florida s toxic and dangerous  stand your grou...      July 17, 2016   \n",
       "195  As Politico reports an almost neck-and-neck ra...       May 30, 2016   \n",
       "197  This is not some small obscure community colle...       Oct 28, 2015   \n",
       "\n",
       "    fake_or_factual  \n",
       "0         Fake News  \n",
       "1         Fake News  \n",
       "2         Fake News  \n",
       "5         Fake News  \n",
       "6         Fake News  \n",
       "..              ...  \n",
       "191       Fake News  \n",
       "193       Fake News  \n",
       "194       Fake News  \n",
       "195       Fake News  \n",
       "197       Fake News  \n",
       "\n",
       "[98 rows x 4 columns]"
      ]
     },
     "execution_count": 13,
     "metadata": {},
     "output_type": "execute_result"
    }
   ],
   "source": [
    "fake_news"
   ]
  },
  {
   "cell_type": "code",
   "execution_count": 10,
   "id": "b2eb9be1",
   "metadata": {},
   "outputs": [],
   "source": [
    "fact_news=data[data[\"fake_or_factual\"]== \"Factual News\"]"
   ]
  },
  {
   "cell_type": "code",
   "execution_count": 14,
   "id": "0c6528b0",
   "metadata": {},
   "outputs": [
    {
     "data": {
      "text/html": [
       "<div>\n",
       "<style scoped>\n",
       "    .dataframe tbody tr th:only-of-type {\n",
       "        vertical-align: middle;\n",
       "    }\n",
       "\n",
       "    .dataframe tbody tr th {\n",
       "        vertical-align: top;\n",
       "    }\n",
       "\n",
       "    .dataframe thead th {\n",
       "        text-align: right;\n",
       "    }\n",
       "</style>\n",
       "<table border=\"1\" class=\"dataframe\">\n",
       "  <thead>\n",
       "    <tr style=\"text-align: right;\">\n",
       "      <th></th>\n",
       "      <th>title</th>\n",
       "      <th>text</th>\n",
       "      <th>date</th>\n",
       "      <th>fake_or_factual</th>\n",
       "    </tr>\n",
       "  </thead>\n",
       "  <tbody>\n",
       "    <tr>\n",
       "      <th>3</th>\n",
       "      <td>Russian bombing of U.S.-backed forces being di...</td>\n",
       "      <td>WASHINGTON (Reuters) - U.S. Defense Secretary ...</td>\n",
       "      <td>September 18, 2017</td>\n",
       "      <td>Factual News</td>\n",
       "    </tr>\n",
       "    <tr>\n",
       "      <th>4</th>\n",
       "      <td>Britain says window to restore Northern Irelan...</td>\n",
       "      <td>BELFAST (Reuters) - Northern Ireland s politic...</td>\n",
       "      <td>September 4, 2017</td>\n",
       "      <td>Factual News</td>\n",
       "    </tr>\n",
       "    <tr>\n",
       "      <th>7</th>\n",
       "      <td>Trump threat fires up U.S. climate activists, ...</td>\n",
       "      <td>(Reuters) - Seattle financial worker Harrison ...</td>\n",
       "      <td>November 11, 2016</td>\n",
       "      <td>Factual News</td>\n",
       "    </tr>\n",
       "    <tr>\n",
       "      <th>9</th>\n",
       "      <td>China labels Trump call 'petty action' by Taiw...</td>\n",
       "      <td>BEIJING (Reuters) - U.S. President-elect Donal...</td>\n",
       "      <td>December 3, 2016</td>\n",
       "      <td>Factual News</td>\n",
       "    </tr>\n",
       "    <tr>\n",
       "      <th>11</th>\n",
       "      <td>Kerry says can't comment on content of Clinton...</td>\n",
       "      <td>QUEBEC CITY (Reuters) - U.S. Secretary of Stat...</td>\n",
       "      <td>January 29, 2016</td>\n",
       "      <td>Factual News</td>\n",
       "    </tr>\n",
       "    <tr>\n",
       "      <th>...</th>\n",
       "      <td>...</td>\n",
       "      <td>...</td>\n",
       "      <td>...</td>\n",
       "      <td>...</td>\n",
       "    </tr>\n",
       "    <tr>\n",
       "      <th>184</th>\n",
       "      <td>White House not aware of other nations plannin...</td>\n",
       "      <td>WASHINGTON (Reuters) - The White House said on...</td>\n",
       "      <td>December 7, 2017</td>\n",
       "      <td>Factual News</td>\n",
       "    </tr>\n",
       "    <tr>\n",
       "      <th>185</th>\n",
       "      <td>Four killed as militants attack airport securi...</td>\n",
       "      <td>SRINAGAR (Reuters) - Indian police on Tuesday ...</td>\n",
       "      <td>October 3, 2017</td>\n",
       "      <td>Factual News</td>\n",
       "    </tr>\n",
       "    <tr>\n",
       "      <th>188</th>\n",
       "      <td>Chinese aircraft drill again in Western Pacific</td>\n",
       "      <td>BEIJING (Reuters) - Chinese military aircraft ...</td>\n",
       "      <td>December 21, 2017</td>\n",
       "      <td>Factual News</td>\n",
       "    </tr>\n",
       "    <tr>\n",
       "      <th>192</th>\n",
       "      <td>France close to Qatar military, transport cont...</td>\n",
       "      <td>PARIS (Reuters) - France is close to finalizin...</td>\n",
       "      <td>December 4, 2017</td>\n",
       "      <td>Factual News</td>\n",
       "    </tr>\n",
       "    <tr>\n",
       "      <th>196</th>\n",
       "      <td>FBI chief sought more funds for Russia probe d...</td>\n",
       "      <td>WASHINGTON (Reuters) - Former FBI Director Jam...</td>\n",
       "      <td>May 10, 2017</td>\n",
       "      <td>Factual News</td>\n",
       "    </tr>\n",
       "  </tbody>\n",
       "</table>\n",
       "<p>100 rows × 4 columns</p>\n",
       "</div>"
      ],
      "text/plain": [
       "                                                 title  \\\n",
       "3    Russian bombing of U.S.-backed forces being di...   \n",
       "4    Britain says window to restore Northern Irelan...   \n",
       "7    Trump threat fires up U.S. climate activists, ...   \n",
       "9    China labels Trump call 'petty action' by Taiw...   \n",
       "11   Kerry says can't comment on content of Clinton...   \n",
       "..                                                 ...   \n",
       "184  White House not aware of other nations plannin...   \n",
       "185  Four killed as militants attack airport securi...   \n",
       "188    Chinese aircraft drill again in Western Pacific   \n",
       "192  France close to Qatar military, transport cont...   \n",
       "196  FBI chief sought more funds for Russia probe d...   \n",
       "\n",
       "                                                  text                 date  \\\n",
       "3    WASHINGTON (Reuters) - U.S. Defense Secretary ...  September 18, 2017    \n",
       "4    BELFAST (Reuters) - Northern Ireland s politic...   September 4, 2017    \n",
       "7    (Reuters) - Seattle financial worker Harrison ...   November 11, 2016    \n",
       "9    BEIJING (Reuters) - U.S. President-elect Donal...    December 3, 2016    \n",
       "11   QUEBEC CITY (Reuters) - U.S. Secretary of Stat...    January 29, 2016    \n",
       "..                                                 ...                  ...   \n",
       "184  WASHINGTON (Reuters) - The White House said on...    December 7, 2017    \n",
       "185  SRINAGAR (Reuters) - Indian police on Tuesday ...     October 3, 2017    \n",
       "188  BEIJING (Reuters) - Chinese military aircraft ...   December 21, 2017    \n",
       "192  PARIS (Reuters) - France is close to finalizin...    December 4, 2017    \n",
       "196  WASHINGTON (Reuters) - Former FBI Director Jam...        May 10, 2017    \n",
       "\n",
       "    fake_or_factual  \n",
       "3      Factual News  \n",
       "4      Factual News  \n",
       "7      Factual News  \n",
       "9      Factual News  \n",
       "11     Factual News  \n",
       "..              ...  \n",
       "184    Factual News  \n",
       "185    Factual News  \n",
       "188    Factual News  \n",
       "192    Factual News  \n",
       "196    Factual News  \n",
       "\n",
       "[100 rows x 4 columns]"
      ]
     },
     "execution_count": 14,
     "metadata": {},
     "output_type": "execute_result"
    }
   ],
   "source": [
    "fact_news"
   ]
  },
  {
   "cell_type": "code",
   "execution_count": 19,
   "id": "fde79265",
   "metadata": {},
   "outputs": [],
   "source": [
    "fake_spacydocs=list(nlp.pipe(fake_news[\"text\"]))\n",
    "fact_spacydocs=list(nlp.pipe(fact_news[\"text\"]))\n"
   ]
  },
  {
   "cell_type": "code",
   "execution_count": 48,
   "id": "29367521",
   "metadata": {},
   "outputs": [],
   "source": [
    "def extract_token_tags(doc:spacy.tokens.doc.Doc):\n",
    "    return [(i.text,i.ent_type_,i.pos_) for i in doc]"
   ]
  },
  {
   "cell_type": "code",
   "execution_count": 49,
   "id": "43fa6f37",
   "metadata": {},
   "outputs": [],
   "source": [
    "fake_tagsdf=[]\n",
    "columns=[\"token\",\"ner_tag\",\"pos_tag\"]"
   ]
  },
  {
   "cell_type": "code",
   "execution_count": 50,
   "id": "0837140d",
   "metadata": {},
   "outputs": [],
   "source": [
    "for ix , doc in enumerate(fake_spacydocs):\n",
    "    tags=extract_token_tags(doc)\n",
    "    tags=pd.DataFrame(tags)\n",
    "    tags.columns=columns\n",
    "    fake_tagsdf.append(tags)"
   ]
  },
  {
   "cell_type": "code",
   "execution_count": 51,
   "id": "cfa6d210",
   "metadata": {},
   "outputs": [],
   "source": [
    "fake_tagsdf=pd.concat(fake_tagsdf)"
   ]
  },
  {
   "cell_type": "code",
   "execution_count": 52,
   "id": "03237717",
   "metadata": {},
   "outputs": [
    {
     "data": {
      "text/html": [
       "<div>\n",
       "<style scoped>\n",
       "    .dataframe tbody tr th:only-of-type {\n",
       "        vertical-align: middle;\n",
       "    }\n",
       "\n",
       "    .dataframe tbody tr th {\n",
       "        vertical-align: top;\n",
       "    }\n",
       "\n",
       "    .dataframe thead th {\n",
       "        text-align: right;\n",
       "    }\n",
       "</style>\n",
       "<table border=\"1\" class=\"dataframe\">\n",
       "  <thead>\n",
       "    <tr style=\"text-align: right;\">\n",
       "      <th></th>\n",
       "      <th>token</th>\n",
       "      <th>ner_tag</th>\n",
       "      <th>pos_tag</th>\n",
       "    </tr>\n",
       "  </thead>\n",
       "  <tbody>\n",
       "    <tr>\n",
       "      <th>0</th>\n",
       "      <td>There</td>\n",
       "      <td></td>\n",
       "      <td>PRON</td>\n",
       "    </tr>\n",
       "    <tr>\n",
       "      <th>1</th>\n",
       "      <td>are</td>\n",
       "      <td></td>\n",
       "      <td>VERB</td>\n",
       "    </tr>\n",
       "    <tr>\n",
       "      <th>2</th>\n",
       "      <td>two</td>\n",
       "      <td>CARDINAL</td>\n",
       "      <td>NUM</td>\n",
       "    </tr>\n",
       "    <tr>\n",
       "      <th>3</th>\n",
       "      <td>small</td>\n",
       "      <td></td>\n",
       "      <td>ADJ</td>\n",
       "    </tr>\n",
       "    <tr>\n",
       "      <th>4</th>\n",
       "      <td>problems</td>\n",
       "      <td></td>\n",
       "      <td>NOUN</td>\n",
       "    </tr>\n",
       "    <tr>\n",
       "      <th>...</th>\n",
       "      <td>...</td>\n",
       "      <td>...</td>\n",
       "      <td>...</td>\n",
       "    </tr>\n",
       "    <tr>\n",
       "      <th>743</th>\n",
       "      <td>.</td>\n",
       "      <td></td>\n",
       "      <td>PUNCT</td>\n",
       "    </tr>\n",
       "    <tr>\n",
       "      <th>744</th>\n",
       "      <td>Via</td>\n",
       "      <td></td>\n",
       "      <td>NOUN</td>\n",
       "    </tr>\n",
       "    <tr>\n",
       "      <th>745</th>\n",
       "      <td>:</td>\n",
       "      <td></td>\n",
       "      <td>PUNCT</td>\n",
       "    </tr>\n",
       "    <tr>\n",
       "      <th>746</th>\n",
       "      <td>Campus</td>\n",
       "      <td></td>\n",
       "      <td>PROPN</td>\n",
       "    </tr>\n",
       "    <tr>\n",
       "      <th>747</th>\n",
       "      <td>Reform</td>\n",
       "      <td></td>\n",
       "      <td>NOUN</td>\n",
       "    </tr>\n",
       "  </tbody>\n",
       "</table>\n",
       "<p>45744 rows × 3 columns</p>\n",
       "</div>"
      ],
      "text/plain": [
       "        token   ner_tag pos_tag\n",
       "0       There              PRON\n",
       "1         are              VERB\n",
       "2         two  CARDINAL     NUM\n",
       "3       small               ADJ\n",
       "4    problems              NOUN\n",
       "..        ...       ...     ...\n",
       "743         .             PUNCT\n",
       "744       Via              NOUN\n",
       "745         :             PUNCT\n",
       "746    Campus             PROPN\n",
       "747    Reform              NOUN\n",
       "\n",
       "[45744 rows x 3 columns]"
      ]
     },
     "execution_count": 52,
     "metadata": {},
     "output_type": "execute_result"
    }
   ],
   "source": [
    "fake_tagsdf"
   ]
  },
  {
   "cell_type": "code",
   "execution_count": 53,
   "id": "07ad987e",
   "metadata": {},
   "outputs": [],
   "source": [
    "fact_tagsdf=[]\n",
    "\n",
    "for ix , doc in enumerate(fact_spacydocs):\n",
    "    tags=extract_token_tags(doc)\n",
    "    tags=pd.DataFrame(tags)\n",
    "    tags.columns=columns\n",
    "    fact_tagsdf.append(tags)"
   ]
  },
  {
   "cell_type": "code",
   "execution_count": 54,
   "id": "ee40b36d",
   "metadata": {},
   "outputs": [],
   "source": [
    "fact_tagsdf=pd.concat(fact_tagsdf)"
   ]
  },
  {
   "cell_type": "code",
   "execution_count": 55,
   "id": "e84b2472",
   "metadata": {},
   "outputs": [
    {
     "data": {
      "text/html": [
       "<div>\n",
       "<style scoped>\n",
       "    .dataframe tbody tr th:only-of-type {\n",
       "        vertical-align: middle;\n",
       "    }\n",
       "\n",
       "    .dataframe tbody tr th {\n",
       "        vertical-align: top;\n",
       "    }\n",
       "\n",
       "    .dataframe thead th {\n",
       "        text-align: right;\n",
       "    }\n",
       "</style>\n",
       "<table border=\"1\" class=\"dataframe\">\n",
       "  <thead>\n",
       "    <tr style=\"text-align: right;\">\n",
       "      <th></th>\n",
       "      <th>token</th>\n",
       "      <th>pos_tag</th>\n",
       "      <th>counts</th>\n",
       "    </tr>\n",
       "  </thead>\n",
       "  <tbody>\n",
       "    <tr>\n",
       "      <th>28</th>\n",
       "      <td>,</td>\n",
       "      <td>PUNCT</td>\n",
       "      <td>1908</td>\n",
       "    </tr>\n",
       "    <tr>\n",
       "      <th>7446</th>\n",
       "      <td>the</td>\n",
       "      <td>DET</td>\n",
       "      <td>1834</td>\n",
       "    </tr>\n",
       "    <tr>\n",
       "      <th>39</th>\n",
       "      <td>.</td>\n",
       "      <td>PUNCT</td>\n",
       "      <td>1531</td>\n",
       "    </tr>\n",
       "    <tr>\n",
       "      <th>5759</th>\n",
       "      <td>of</td>\n",
       "      <td>ADP</td>\n",
       "      <td>922</td>\n",
       "    </tr>\n",
       "    <tr>\n",
       "      <th>2661</th>\n",
       "      <td>and</td>\n",
       "      <td>CCONJ</td>\n",
       "      <td>875</td>\n",
       "    </tr>\n",
       "    <tr>\n",
       "      <th>2446</th>\n",
       "      <td>a</td>\n",
       "      <td>DET</td>\n",
       "      <td>804</td>\n",
       "    </tr>\n",
       "    <tr>\n",
       "      <th>0</th>\n",
       "      <td></td>\n",
       "      <td>SPACE</td>\n",
       "      <td>795</td>\n",
       "    </tr>\n",
       "    <tr>\n",
       "      <th>7523</th>\n",
       "      <td>to</td>\n",
       "      <td>PART</td>\n",
       "      <td>767</td>\n",
       "    </tr>\n",
       "    <tr>\n",
       "      <th>4915</th>\n",
       "      <td>in</td>\n",
       "      <td>ADP</td>\n",
       "      <td>667</td>\n",
       "    </tr>\n",
       "    <tr>\n",
       "      <th>5094</th>\n",
       "      <td>is</td>\n",
       "      <td>AUX</td>\n",
       "      <td>419</td>\n",
       "    </tr>\n",
       "  </tbody>\n",
       "</table>\n",
       "</div>"
      ],
      "text/plain": [
       "     token pos_tag  counts\n",
       "28       ,   PUNCT    1908\n",
       "7446   the     DET    1834\n",
       "39       .   PUNCT    1531\n",
       "5759    of     ADP     922\n",
       "2661   and   CCONJ     875\n",
       "2446     a     DET     804\n",
       "0            SPACE     795\n",
       "7523    to    PART     767\n",
       "4915    in     ADP     667\n",
       "5094    is     AUX     419"
      ]
     },
     "execution_count": 55,
     "metadata": {},
     "output_type": "execute_result"
    }
   ],
   "source": [
    "pos_counts_fake=fake_tagsdf.groupby([\"token\",\"pos_tag\"]).size().reset_index(name=\"counts\").sort_values(by=\"counts\",ascending=False)\n",
    "pos_counts_fake.head(10)"
   ]
  },
  {
   "cell_type": "code",
   "execution_count": 56,
   "id": "d37841ea",
   "metadata": {},
   "outputs": [
    {
     "data": {
      "text/html": [
       "<div>\n",
       "<style scoped>\n",
       "    .dataframe tbody tr th:only-of-type {\n",
       "        vertical-align: middle;\n",
       "    }\n",
       "\n",
       "    .dataframe tbody tr th {\n",
       "        vertical-align: top;\n",
       "    }\n",
       "\n",
       "    .dataframe thead th {\n",
       "        text-align: right;\n",
       "    }\n",
       "</style>\n",
       "<table border=\"1\" class=\"dataframe\">\n",
       "  <thead>\n",
       "    <tr style=\"text-align: right;\">\n",
       "      <th></th>\n",
       "      <th>token</th>\n",
       "      <th>pos_tag</th>\n",
       "      <th>counts</th>\n",
       "    </tr>\n",
       "  </thead>\n",
       "  <tbody>\n",
       "    <tr>\n",
       "      <th>6169</th>\n",
       "      <td>the</td>\n",
       "      <td>DET</td>\n",
       "      <td>1903</td>\n",
       "    </tr>\n",
       "    <tr>\n",
       "      <th>15</th>\n",
       "      <td>,</td>\n",
       "      <td>PUNCT</td>\n",
       "      <td>1698</td>\n",
       "    </tr>\n",
       "    <tr>\n",
       "      <th>22</th>\n",
       "      <td>.</td>\n",
       "      <td>PUNCT</td>\n",
       "      <td>1381</td>\n",
       "    </tr>\n",
       "    <tr>\n",
       "      <th>4733</th>\n",
       "      <td>of</td>\n",
       "      <td>ADP</td>\n",
       "      <td>884</td>\n",
       "    </tr>\n",
       "    <tr>\n",
       "      <th>1905</th>\n",
       "      <td>a</td>\n",
       "      <td>DET</td>\n",
       "      <td>789</td>\n",
       "    </tr>\n",
       "    <tr>\n",
       "      <th>2100</th>\n",
       "      <td>and</td>\n",
       "      <td>CCONJ</td>\n",
       "      <td>757</td>\n",
       "    </tr>\n",
       "    <tr>\n",
       "      <th>4015</th>\n",
       "      <td>in</td>\n",
       "      <td>ADP</td>\n",
       "      <td>672</td>\n",
       "    </tr>\n",
       "    <tr>\n",
       "      <th>6230</th>\n",
       "      <td>to</td>\n",
       "      <td>PART</td>\n",
       "      <td>660</td>\n",
       "    </tr>\n",
       "    <tr>\n",
       "      <th>4761</th>\n",
       "      <td>on</td>\n",
       "      <td>ADP</td>\n",
       "      <td>482</td>\n",
       "    </tr>\n",
       "    <tr>\n",
       "      <th>5586</th>\n",
       "      <td>said</td>\n",
       "      <td>VERB</td>\n",
       "      <td>452</td>\n",
       "    </tr>\n",
       "  </tbody>\n",
       "</table>\n",
       "</div>"
      ],
      "text/plain": [
       "     token pos_tag  counts\n",
       "6169   the     DET    1903\n",
       "15       ,   PUNCT    1698\n",
       "22       .   PUNCT    1381\n",
       "4733    of     ADP     884\n",
       "1905     a     DET     789\n",
       "2100   and   CCONJ     757\n",
       "4015    in     ADP     672\n",
       "6230    to    PART     660\n",
       "4761    on     ADP     482\n",
       "5586  said    VERB     452"
      ]
     },
     "execution_count": 56,
     "metadata": {},
     "output_type": "execute_result"
    }
   ],
   "source": [
    "pos_counts_fact=fact_tagsdf.groupby([\"token\",\"pos_tag\"]).size().reset_index(name=\"counts\").sort_values(by=\"counts\",ascending=False)\n",
    "pos_counts_fact.head(10)"
   ]
  },
  {
   "cell_type": "code",
   "execution_count": 57,
   "id": "91384d54",
   "metadata": {},
   "outputs": [
    {
     "data": {
      "text/plain": [
       "pos_tag\n",
       "NOUN     2597\n",
       "VERB     1814\n",
       "PROPN    1657\n",
       "ADJ       876\n",
       "ADV       412\n",
       "NUM       221\n",
       "PRON       99\n",
       "ADP        88\n",
       "AUX        58\n",
       "SCONJ      54\n",
       "DET        42\n",
       "INTJ       27\n",
       "PUNCT      27\n",
       "X          19\n",
       "CCONJ      19\n",
       "PART       10\n",
       "SYM         6\n",
       "SPACE       3\n",
       "Name: token, dtype: int64"
      ]
     },
     "execution_count": 57,
     "metadata": {},
     "output_type": "execute_result"
    }
   ],
   "source": [
    "pos_counts_fake.groupby(\"pos_tag\")[\"token\"].count().sort_values(ascending=False)"
   ]
  },
  {
   "cell_type": "code",
   "execution_count": 58,
   "id": "a32f23c3",
   "metadata": {},
   "outputs": [
    {
     "data": {
      "text/plain": [
       "pos_tag\n",
       "NOUN     2182\n",
       "VERB     1535\n",
       "PROPN    1387\n",
       "ADJ       753\n",
       "ADV       271\n",
       "NUM       203\n",
       "PRON       81\n",
       "ADP        70\n",
       "AUX        44\n",
       "SCONJ      39\n",
       "DET        35\n",
       "PUNCT      19\n",
       "X          12\n",
       "SPACE      11\n",
       "CCONJ       9\n",
       "INTJ        8\n",
       "PART        8\n",
       "SYM         5\n",
       "Name: token, dtype: int64"
      ]
     },
     "execution_count": 58,
     "metadata": {},
     "output_type": "execute_result"
    }
   ],
   "source": [
    "pos_counts_fact.groupby(\"pos_tag\")[\"token\"].count().sort_values(ascending=False)"
   ]
  },
  {
   "cell_type": "code",
   "execution_count": 59,
   "id": "e4dd3100",
   "metadata": {},
   "outputs": [
    {
     "data": {
      "text/html": [
       "<div>\n",
       "<style scoped>\n",
       "    .dataframe tbody tr th:only-of-type {\n",
       "        vertical-align: middle;\n",
       "    }\n",
       "\n",
       "    .dataframe tbody tr th {\n",
       "        vertical-align: top;\n",
       "    }\n",
       "\n",
       "    .dataframe thead th {\n",
       "        text-align: right;\n",
       "    }\n",
       "</style>\n",
       "<table border=\"1\" class=\"dataframe\">\n",
       "  <thead>\n",
       "    <tr style=\"text-align: right;\">\n",
       "      <th></th>\n",
       "      <th>token</th>\n",
       "      <th>pos_tag</th>\n",
       "      <th>counts</th>\n",
       "    </tr>\n",
       "  </thead>\n",
       "  <tbody>\n",
       "    <tr>\n",
       "      <th>5969</th>\n",
       "      <td>people</td>\n",
       "      <td>NOUN</td>\n",
       "      <td>77</td>\n",
       "    </tr>\n",
       "    <tr>\n",
       "      <th>7959</th>\n",
       "      <td>women</td>\n",
       "      <td>NOUN</td>\n",
       "      <td>55</td>\n",
       "    </tr>\n",
       "    <tr>\n",
       "      <th>6204</th>\n",
       "      <td>president</td>\n",
       "      <td>NOUN</td>\n",
       "      <td>53</td>\n",
       "    </tr>\n",
       "    <tr>\n",
       "      <th>7511</th>\n",
       "      <td>time</td>\n",
       "      <td>NOUN</td>\n",
       "      <td>52</td>\n",
       "    </tr>\n",
       "    <tr>\n",
       "      <th>8011</th>\n",
       "      <td>year</td>\n",
       "      <td>NOUN</td>\n",
       "      <td>44</td>\n",
       "    </tr>\n",
       "    <tr>\n",
       "      <th>...</th>\n",
       "      <td>...</td>\n",
       "      <td>...</td>\n",
       "      <td>...</td>\n",
       "    </tr>\n",
       "    <tr>\n",
       "      <th>3783</th>\n",
       "      <td>diagnosis</td>\n",
       "      <td>NOUN</td>\n",
       "      <td>1</td>\n",
       "    </tr>\n",
       "    <tr>\n",
       "      <th>3780</th>\n",
       "      <td>devil</td>\n",
       "      <td>NOUN</td>\n",
       "      <td>1</td>\n",
       "    </tr>\n",
       "    <tr>\n",
       "      <th>3779</th>\n",
       "      <td>devices</td>\n",
       "      <td>NOUN</td>\n",
       "      <td>1</td>\n",
       "    </tr>\n",
       "    <tr>\n",
       "      <th>3777</th>\n",
       "      <td>developments</td>\n",
       "      <td>NOUN</td>\n",
       "      <td>1</td>\n",
       "    </tr>\n",
       "    <tr>\n",
       "      <th>3774</th>\n",
       "      <td>devastation</td>\n",
       "      <td>NOUN</td>\n",
       "      <td>1</td>\n",
       "    </tr>\n",
       "  </tbody>\n",
       "</table>\n",
       "<p>2597 rows × 3 columns</p>\n",
       "</div>"
      ],
      "text/plain": [
       "             token pos_tag  counts\n",
       "5969        people    NOUN      77\n",
       "7959         women    NOUN      55\n",
       "6204     president    NOUN      53\n",
       "7511          time    NOUN      52\n",
       "8011          year    NOUN      44\n",
       "...            ...     ...     ...\n",
       "3783     diagnosis    NOUN       1\n",
       "3780         devil    NOUN       1\n",
       "3779       devices    NOUN       1\n",
       "3777  developments    NOUN       1\n",
       "3774   devastation    NOUN       1\n",
       "\n",
       "[2597 rows x 3 columns]"
      ]
     },
     "execution_count": 59,
     "metadata": {},
     "output_type": "execute_result"
    }
   ],
   "source": [
    "pos_counts_fake[pos_counts_fake[\"pos_tag\"]==\"NOUN\"]"
   ]
  },
  {
   "cell_type": "code",
   "execution_count": 60,
   "id": "6533c541",
   "metadata": {},
   "outputs": [
    {
     "data": {
      "text/html": [
       "<div>\n",
       "<style scoped>\n",
       "    .dataframe tbody tr th:only-of-type {\n",
       "        vertical-align: middle;\n",
       "    }\n",
       "\n",
       "    .dataframe tbody tr th {\n",
       "        vertical-align: top;\n",
       "    }\n",
       "\n",
       "    .dataframe thead th {\n",
       "        text-align: right;\n",
       "    }\n",
       "</style>\n",
       "<table border=\"1\" class=\"dataframe\">\n",
       "  <thead>\n",
       "    <tr style=\"text-align: right;\">\n",
       "      <th></th>\n",
       "      <th>token</th>\n",
       "      <th>pos_tag</th>\n",
       "      <th>counts</th>\n",
       "    </tr>\n",
       "  </thead>\n",
       "  <tbody>\n",
       "    <tr>\n",
       "      <th>3748</th>\n",
       "      <td>government</td>\n",
       "      <td>NOUN</td>\n",
       "      <td>71</td>\n",
       "    </tr>\n",
       "    <tr>\n",
       "      <th>6639</th>\n",
       "      <td>year</td>\n",
       "      <td>NOUN</td>\n",
       "      <td>64</td>\n",
       "    </tr>\n",
       "    <tr>\n",
       "      <th>5927</th>\n",
       "      <td>state</td>\n",
       "      <td>NOUN</td>\n",
       "      <td>58</td>\n",
       "    </tr>\n",
       "    <tr>\n",
       "      <th>2373</th>\n",
       "      <td>bill</td>\n",
       "      <td>NOUN</td>\n",
       "      <td>55</td>\n",
       "    </tr>\n",
       "    <tr>\n",
       "      <th>1982</th>\n",
       "      <td>administration</td>\n",
       "      <td>NOUN</td>\n",
       "      <td>51</td>\n",
       "    </tr>\n",
       "    <tr>\n",
       "      <th>...</th>\n",
       "      <td>...</td>\n",
       "      <td>...</td>\n",
       "      <td>...</td>\n",
       "    </tr>\n",
       "    <tr>\n",
       "      <th>4202</th>\n",
       "      <td>journalist</td>\n",
       "      <td>NOUN</td>\n",
       "      <td>1</td>\n",
       "    </tr>\n",
       "    <tr>\n",
       "      <th>4205</th>\n",
       "      <td>journey</td>\n",
       "      <td>NOUN</td>\n",
       "      <td>1</td>\n",
       "    </tr>\n",
       "    <tr>\n",
       "      <th>4153</th>\n",
       "      <td>investigator</td>\n",
       "      <td>NOUN</td>\n",
       "      <td>1</td>\n",
       "    </tr>\n",
       "    <tr>\n",
       "      <th>1768</th>\n",
       "      <td>U.S.-Mexico</td>\n",
       "      <td>NOUN</td>\n",
       "      <td>1</td>\n",
       "    </tr>\n",
       "    <tr>\n",
       "      <th>1759</th>\n",
       "      <td>Twitter</td>\n",
       "      <td>NOUN</td>\n",
       "      <td>1</td>\n",
       "    </tr>\n",
       "  </tbody>\n",
       "</table>\n",
       "<p>2182 rows × 3 columns</p>\n",
       "</div>"
      ],
      "text/plain": [
       "               token pos_tag  counts\n",
       "3748      government    NOUN      71\n",
       "6639            year    NOUN      64\n",
       "5927           state    NOUN      58\n",
       "2373            bill    NOUN      55\n",
       "1982  administration    NOUN      51\n",
       "...              ...     ...     ...\n",
       "4202      journalist    NOUN       1\n",
       "4205         journey    NOUN       1\n",
       "4153    investigator    NOUN       1\n",
       "1768     U.S.-Mexico    NOUN       1\n",
       "1759         Twitter    NOUN       1\n",
       "\n",
       "[2182 rows x 3 columns]"
      ]
     },
     "execution_count": 60,
     "metadata": {},
     "output_type": "execute_result"
    }
   ],
   "source": [
    "pos_counts_fact[pos_counts_fact[\"pos_tag\"]==\"NOUN\"]"
   ]
  },
  {
   "cell_type": "markdown",
   "id": "3669db3b",
   "metadata": {},
   "source": [
    "## Named Entities"
   ]
  },
  {
   "cell_type": "code",
   "execution_count": 61,
   "id": "9f374dc2",
   "metadata": {},
   "outputs": [],
   "source": [
    "top_entities_fake=fake_tagsdf[fake_tagsdf[\"ner_tag\"]!= \"\"].groupby([\"token\",\"ner_tag\"]).size().reset_index(name=\"counts\").sort_values(by=\"counts\",ascending=False)"
   ]
  },
  {
   "cell_type": "code",
   "execution_count": 62,
   "id": "9aed2754",
   "metadata": {},
   "outputs": [],
   "source": [
    "top_entities_fact=fact_tagsdf[fact_tagsdf[\"ner_tag\"]!= \"\"].groupby([\"token\",\"ner_tag\"]).size().reset_index(name=\"counts\").sort_values(by=\"counts\",ascending=False)"
   ]
  },
  {
   "cell_type": "code",
   "execution_count": 63,
   "id": "b6b25e95",
   "metadata": {},
   "outputs": [],
   "source": [
    "ner_palette={\n",
    "    \n",
    "    \"ORG\":sns.color_palette(\"Set2\").as_hex()[0],\n",
    "    \"GPE\":sns.color_palette(\"Set2\").as_hex()[1],\n",
    "    \"NORP\":sns.color_palette(\"Set2\").as_hex()[2],\n",
    "    \"PERSON\":sns.color_palette(\"Set2\").as_hex()[3],\n",
    "    \"DATE\":sns.color_palette(\"Set2\").as_hex()[4],\n",
    "    \"CARDINAL\":sns.color_palette(\"Set2\").as_hex()[5],\n",
    "    \"PERCENT\":sns.color_palette(\"Set2\").as_hex()[6]\n",
    "}"
   ]
  },
  {
   "cell_type": "code",
   "execution_count": 64,
   "id": "66dae562",
   "metadata": {},
   "outputs": [
    {
     "data": {
      "text/plain": [
       "[Text(0.5, 1.0, 'MOST COMMON NAMED ENTITIES IN FAKE NEWS')]"
      ]
     },
     "execution_count": 64,
     "metadata": {},
     "output_type": "execute_result"
    },
    {
     "data": {
      "image/png": "[encoded data removed]",
      "text/plain": [
       "<Figure size 1200x800 with 1 Axes>"
      ]
     },
     "metadata": {},
     "output_type": "display_data"
    }
   ],
   "source": [
    "sns.barplot(x=\"counts\",y=\"token\",hue=\"ner_tag\",palette=ner_palette,data=top_entities_fake[:10],\n",
    "           orient=\"h\",dodge=False).set(title=\"MOST COMMON NAMED ENTITIES IN FAKE NEWS\")"
   ]
  },
  {
   "cell_type": "code",
   "execution_count": 66,
   "id": "fdd83bbd",
   "metadata": {},
   "outputs": [
    {
     "data": {
      "text/plain": [
       "[Text(0.5, 1.0, 'MOST COMMON NAMED ENTITIES IN Fact NEWS')]"
      ]
     },
     "execution_count": 66,
     "metadata": {},
     "output_type": "execute_result"
    },
    {
     "data": {
      "image/png": "[encoded data removed]",
      "text/plain": [
       "<Figure size 1200x800 with 1 Axes>"
      ]
     },
     "metadata": {},
     "output_type": "display_data"
    }
   ],
   "source": [
    "sns.barplot(x=\"counts\",y=\"token\",hue=\"ner_tag\",palette=ner_palette,data=top_entities_fact[:10],\n",
    "           orient=\"h\",dodge=False).set(title=\"MOST COMMON NAMED ENTITIES IN Fact NEWS\")"
   ]
  },
  {
   "cell_type": "markdown",
   "id": "5967b838",
   "metadata": {},
   "source": [
    "#  The Text Preprocessing"
   ]
  },
  {
   "cell_type": "code",
   "execution_count": 67,
   "id": "85362511",
   "metadata": {},
   "outputs": [
    {
     "data": {
      "text/html": [
       "<div>\n",
       "<style scoped>\n",
       "    .dataframe tbody tr th:only-of-type {\n",
       "        vertical-align: middle;\n",
       "    }\n",
       "\n",
       "    .dataframe tbody tr th {\n",
       "        vertical-align: top;\n",
       "    }\n",
       "\n",
       "    .dataframe thead th {\n",
       "        text-align: right;\n",
       "    }\n",
       "</style>\n",
       "<table border=\"1\" class=\"dataframe\">\n",
       "  <thead>\n",
       "    <tr style=\"text-align: right;\">\n",
       "      <th></th>\n",
       "      <th>title</th>\n",
       "      <th>text</th>\n",
       "      <th>date</th>\n",
       "      <th>fake_or_factual</th>\n",
       "    </tr>\n",
       "  </thead>\n",
       "  <tbody>\n",
       "    <tr>\n",
       "      <th>0</th>\n",
       "      <td>HOLLYWEIRD LIB SUSAN SARANDON Compares Muslim ...</td>\n",
       "      <td>There are two small problems with your analogy...</td>\n",
       "      <td>Dec 30, 2015</td>\n",
       "      <td>Fake News</td>\n",
       "    </tr>\n",
       "    <tr>\n",
       "      <th>1</th>\n",
       "      <td>Elijah Cummings Called Trump Out To His Face ...</td>\n",
       "      <td>Buried in Trump s bonkers interview with New Y...</td>\n",
       "      <td>April 6, 2017</td>\n",
       "      <td>Fake News</td>\n",
       "    </tr>\n",
       "    <tr>\n",
       "      <th>2</th>\n",
       "      <td>Hillary Clinton Says Half Her Cabinet Will Be...</td>\n",
       "      <td>Women make up over 50 percent of this country,...</td>\n",
       "      <td>April 26, 2016</td>\n",
       "      <td>Fake News</td>\n",
       "    </tr>\n",
       "    <tr>\n",
       "      <th>3</th>\n",
       "      <td>Russian bombing of U.S.-backed forces being di...</td>\n",
       "      <td>WASHINGTON (Reuters) - U.S. Defense Secretary ...</td>\n",
       "      <td>September 18, 2017</td>\n",
       "      <td>Factual News</td>\n",
       "    </tr>\n",
       "    <tr>\n",
       "      <th>4</th>\n",
       "      <td>Britain says window to restore Northern Irelan...</td>\n",
       "      <td>BELFAST (Reuters) - Northern Ireland s politic...</td>\n",
       "      <td>September 4, 2017</td>\n",
       "      <td>Factual News</td>\n",
       "    </tr>\n",
       "  </tbody>\n",
       "</table>\n",
       "</div>"
      ],
      "text/plain": [
       "                                               title  \\\n",
       "0  HOLLYWEIRD LIB SUSAN SARANDON Compares Muslim ...   \n",
       "1   Elijah Cummings Called Trump Out To His Face ...   \n",
       "2   Hillary Clinton Says Half Her Cabinet Will Be...   \n",
       "3  Russian bombing of U.S.-backed forces being di...   \n",
       "4  Britain says window to restore Northern Irelan...   \n",
       "\n",
       "                                                text                 date  \\\n",
       "0  There are two small problems with your analogy...         Dec 30, 2015   \n",
       "1  Buried in Trump s bonkers interview with New Y...        April 6, 2017   \n",
       "2  Women make up over 50 percent of this country,...       April 26, 2016   \n",
       "3  WASHINGTON (Reuters) - U.S. Defense Secretary ...  September 18, 2017    \n",
       "4  BELFAST (Reuters) - Northern Ireland s politic...   September 4, 2017    \n",
       "\n",
       "  fake_or_factual  \n",
       "0       Fake News  \n",
       "1       Fake News  \n",
       "2       Fake News  \n",
       "3    Factual News  \n",
       "4    Factual News  "
      ]
     },
     "execution_count": 67,
     "metadata": {},
     "output_type": "execute_result"
    }
   ],
   "source": [
    "data.head()"
   ]
  },
  {
   "cell_type": "code",
   "execution_count": 68,
   "id": "d03217a6",
   "metadata": {},
   "outputs": [],
   "source": [
    "data[\"text_clean\"]=data.apply(lambda x:re.sub(r\"^[^-]*-\\s\",\"\",x[\"text\"]),axis=1)"
   ]
  },
  {
   "cell_type": "code",
   "execution_count": 69,
   "id": "f5c5bc08",
   "metadata": {},
   "outputs": [],
   "source": [
    "data[\"text_clean\"]=data[\"text_clean\"].str.lower()"
   ]
  },
  {
   "cell_type": "code",
   "execution_count": 70,
   "id": "7786ec43",
   "metadata": {},
   "outputs": [],
   "source": [
    "data[\"text_clean\"]=data.apply(lambda x:re.sub(r\"([^\\w\\s])\",\"\",x[\"text_clean\"]),axis=1)"
   ]
  },
  {
   "cell_type": "code",
   "execution_count": 71,
   "id": "2e887fbd",
   "metadata": {},
   "outputs": [],
   "source": [
    "en_stopwords=stopwords.words(\"english\")"
   ]
  },
  {
   "cell_type": "code",
   "execution_count": 72,
   "id": "0e9bd77b",
   "metadata": {},
   "outputs": [
    {
     "name": "stdout",
     "output_type": "stream",
     "text": [
      "['i', 'me', 'my', 'myself', 'we', 'our', 'ours', 'ourselves', 'you', \"you're\", \"you've\", \"you'll\", \"you'd\", 'your', 'yours', 'yourself', 'yourselves', 'he', 'him', 'his', 'himself', 'she', \"she's\", 'her', 'hers', 'herself', 'it', \"it's\", 'its', 'itself', 'they', 'them', 'their', 'theirs', 'themselves', 'what', 'which', 'who', 'whom', 'this', 'that', \"that'll\", 'these', 'those', 'am', 'is', 'are', 'was', 'were', 'be', 'been', 'being', 'have', 'has', 'had', 'having', 'do', 'does', 'did', 'doing', 'a', 'an', 'the', 'and', 'but', 'if', 'or', 'because', 'as', 'until', 'while', 'of', 'at', 'by', 'for', 'with', 'about', 'against', 'between', 'into', 'through', 'during', 'before', 'after', 'above', 'below', 'to', 'from', 'up', 'down', 'in', 'out', 'on', 'off', 'over', 'under', 'again', 'further', 'then', 'once', 'here', 'there', 'when', 'where', 'why', 'how', 'all', 'any', 'both', 'each', 'few', 'more', 'most', 'other', 'some', 'such', 'no', 'nor', 'not', 'only', 'own', 'same', 'so', 'than', 'too', 'very', 's', 't', 'can', 'will', 'just', 'don', \"don't\", 'should', \"should've\", 'now', 'd', 'll', 'm', 'o', 're', 've', 'y', 'ain', 'aren', \"aren't\", 'couldn', \"couldn't\", 'didn', \"didn't\", 'doesn', \"doesn't\", 'hadn', \"hadn't\", 'hasn', \"hasn't\", 'haven', \"haven't\", 'isn', \"isn't\", 'ma', 'mightn', \"mightn't\", 'mustn', \"mustn't\", 'needn', \"needn't\", 'shan', \"shan't\", 'shouldn', \"shouldn't\", 'wasn', \"wasn't\", 'weren', \"weren't\", 'won', \"won't\", 'wouldn', \"wouldn't\"]\n"
     ]
    }
   ],
   "source": [
    "print(en_stopwords)"
   ]
  },
  {
   "cell_type": "code",
   "execution_count": 74,
   "id": "6c8fa1ba",
   "metadata": {},
   "outputs": [],
   "source": [
    "data[\"text_clean\"]=data[\"text_clean\"].apply(lambda x: \" \".join([word for word in x.split() if word not in (en_stopwords)]))"
   ]
  },
  {
   "cell_type": "code",
   "execution_count": 76,
   "id": "c4b0c9e7",
   "metadata": {},
   "outputs": [],
   "source": [
    "data[\"text_clean\"]=data.apply(lambda x:word_tokenize(x[\"text_clean\"]),axis=1)"
   ]
  },
  {
   "cell_type": "code",
   "execution_count": 77,
   "id": "209320e6",
   "metadata": {},
   "outputs": [],
   "source": [
    "lemmatizer=WordNetLemmatizer()"
   ]
  },
  {
   "cell_type": "code",
   "execution_count": 78,
   "id": "fd8d3f31",
   "metadata": {},
   "outputs": [],
   "source": [
    "data[\"text_clean\"]=data[\"text_clean\"].apply(lambda tokens : [lemmatizer.lemmatize(token) for token in tokens])"
   ]
  },
  {
   "cell_type": "code",
   "execution_count": 79,
   "id": "6684ae40",
   "metadata": {},
   "outputs": [
    {
     "data": {
      "text/html": [
       "<div>\n",
       "<style scoped>\n",
       "    .dataframe tbody tr th:only-of-type {\n",
       "        vertical-align: middle;\n",
       "    }\n",
       "\n",
       "    .dataframe tbody tr th {\n",
       "        vertical-align: top;\n",
       "    }\n",
       "\n",
       "    .dataframe thead th {\n",
       "        text-align: right;\n",
       "    }\n",
       "</style>\n",
       "<table border=\"1\" class=\"dataframe\">\n",
       "  <thead>\n",
       "    <tr style=\"text-align: right;\">\n",
       "      <th></th>\n",
       "      <th>title</th>\n",
       "      <th>text</th>\n",
       "      <th>date</th>\n",
       "      <th>fake_or_factual</th>\n",
       "      <th>text_clean</th>\n",
       "    </tr>\n",
       "  </thead>\n",
       "  <tbody>\n",
       "    <tr>\n",
       "      <th>0</th>\n",
       "      <td>HOLLYWEIRD LIB SUSAN SARANDON Compares Muslim ...</td>\n",
       "      <td>There are two small problems with your analogy...</td>\n",
       "      <td>Dec 30, 2015</td>\n",
       "      <td>Fake News</td>\n",
       "      <td>[two, small, problem, analogy, susan, jesus, m...</td>\n",
       "    </tr>\n",
       "    <tr>\n",
       "      <th>1</th>\n",
       "      <td>Elijah Cummings Called Trump Out To His Face ...</td>\n",
       "      <td>Buried in Trump s bonkers interview with New Y...</td>\n",
       "      <td>April 6, 2017</td>\n",
       "      <td>Fake News</td>\n",
       "      <td>[buried, trump, bonkers, interview, new, york,...</td>\n",
       "    </tr>\n",
       "    <tr>\n",
       "      <th>2</th>\n",
       "      <td>Hillary Clinton Says Half Her Cabinet Will Be...</td>\n",
       "      <td>Women make up over 50 percent of this country,...</td>\n",
       "      <td>April 26, 2016</td>\n",
       "      <td>Fake News</td>\n",
       "      <td>[woman, make, 50, percent, country, grossly, u...</td>\n",
       "    </tr>\n",
       "    <tr>\n",
       "      <th>3</th>\n",
       "      <td>Russian bombing of U.S.-backed forces being di...</td>\n",
       "      <td>WASHINGTON (Reuters) - U.S. Defense Secretary ...</td>\n",
       "      <td>September 18, 2017</td>\n",
       "      <td>Factual News</td>\n",
       "      <td>[u, defense, secretary, jim, mattis, said, mon...</td>\n",
       "    </tr>\n",
       "    <tr>\n",
       "      <th>4</th>\n",
       "      <td>Britain says window to restore Northern Irelan...</td>\n",
       "      <td>BELFAST (Reuters) - Northern Ireland s politic...</td>\n",
       "      <td>September 4, 2017</td>\n",
       "      <td>Factual News</td>\n",
       "      <td>[northern, ireland, political, party, rapidly,...</td>\n",
       "    </tr>\n",
       "  </tbody>\n",
       "</table>\n",
       "</div>"
      ],
      "text/plain": [
       "                                               title  \\\n",
       "0  HOLLYWEIRD LIB SUSAN SARANDON Compares Muslim ...   \n",
       "1   Elijah Cummings Called Trump Out To His Face ...   \n",
       "2   Hillary Clinton Says Half Her Cabinet Will Be...   \n",
       "3  Russian bombing of U.S.-backed forces being di...   \n",
       "4  Britain says window to restore Northern Irelan...   \n",
       "\n",
       "                                                text                 date  \\\n",
       "0  There are two small problems with your analogy...         Dec 30, 2015   \n",
       "1  Buried in Trump s bonkers interview with New Y...        April 6, 2017   \n",
       "2  Women make up over 50 percent of this country,...       April 26, 2016   \n",
       "3  WASHINGTON (Reuters) - U.S. Defense Secretary ...  September 18, 2017    \n",
       "4  BELFAST (Reuters) - Northern Ireland s politic...   September 4, 2017    \n",
       "\n",
       "  fake_or_factual                                         text_clean  \n",
       "0       Fake News  [two, small, problem, analogy, susan, jesus, m...  \n",
       "1       Fake News  [buried, trump, bonkers, interview, new, york,...  \n",
       "2       Fake News  [woman, make, 50, percent, country, grossly, u...  \n",
       "3    Factual News  [u, defense, secretary, jim, mattis, said, mon...  \n",
       "4    Factual News  [northern, ireland, political, party, rapidly,...  "
      ]
     },
     "execution_count": 79,
     "metadata": {},
     "output_type": "execute_result"
    }
   ],
   "source": [
    "data.head()"
   ]
  },
  {
   "cell_type": "code",
   "execution_count": 80,
   "id": "b56ab7cf",
   "metadata": {},
   "outputs": [],
   "source": [
    "tokens_clean=sum(data[\"text_clean\"],[])"
   ]
  },
  {
   "cell_type": "code",
   "execution_count": 81,
   "id": "f53b247e",
   "metadata": {},
   "outputs": [
    {
     "data": {
      "text/plain": [
       "(trump,)         580\n",
       "(said,)          580\n",
       "(u,)             277\n",
       "(state,)         275\n",
       "(president,)     259\n",
       "(would,)         226\n",
       "(one,)           160\n",
       "(clinton,)       141\n",
       "(year,)          139\n",
       "(republican,)    137\n",
       "dtype: int64"
      ]
     },
     "execution_count": 81,
     "metadata": {},
     "output_type": "execute_result"
    }
   ],
   "source": [
    "unigrams=(pd.Series(nltk.ngrams(tokens_clean,1)).value_counts())\n",
    "unigrams[:10]"
   ]
  },
  {
   "cell_type": "code",
   "execution_count": 82,
   "id": "46e83934",
   "metadata": {},
   "outputs": [
    {
     "data": {
      "text/plain": [
       "[Text(0.5, 1.0, 'Most Common Unigrams After PreProcessing')]"
      ]
     },
     "execution_count": 82,
     "metadata": {},
     "output_type": "execute_result"
    },
    {
     "data": {
      "image/png": "[encoded data removed]",
      "text/plain": [
       "<Figure size 1200x800 with 1 Axes>"
      ]
     },
     "metadata": {},
     "output_type": "display_data"
    }
   ],
   "source": [
    "sns.barplot(x=unigrams[:10],y=unigrams.index[:10],\n",
    "           orient=\"h\",\n",
    "           palette=[default_plot_colour]\n",
    "           ).set(title=\"Most Common Unigrams After PreProcessing\")"
   ]
  },
  {
   "cell_type": "code",
   "execution_count": 83,
   "id": "ced9de05",
   "metadata": {},
   "outputs": [
    {
     "data": {
      "text/plain": [
       "(donald, trump)            113\n",
       "(united, state)             84\n",
       "(white, house)              74\n",
       "(president, donald)         47\n",
       "(hillary, clinton)          39\n",
       "(new, york)                 33\n",
       "(supreme, court)            30\n",
       "(image, via)                29\n",
       "(official, said)            26\n",
       "(trump, administration)     26\n",
       "dtype: int64"
      ]
     },
     "execution_count": 83,
     "metadata": {},
     "output_type": "execute_result"
    }
   ],
   "source": [
    "bigrams=(pd.Series(nltk.ngrams(tokens_clean,2)).value_counts())\n",
    "bigrams[:10]"
   ]
  },
  {
   "cell_type": "markdown",
   "id": "1d47ff28",
   "metadata": {},
   "source": [
    "## Sentiment Analysis "
   ]
  },
  {
   "cell_type": "code",
   "execution_count": 84,
   "id": "f77f5d9b",
   "metadata": {},
   "outputs": [],
   "source": [
    "vader_sentiment=SentimentIntensityAnalyzer()"
   ]
  },
  {
   "cell_type": "code",
   "execution_count": 85,
   "id": "31fb231e",
   "metadata": {},
   "outputs": [],
   "source": [
    "data[\"vader_sentiment_score\"]=data[\"text\"].apply(lambda x: vader_sentiment.polarity_scores(x)[\"compound\"])"
   ]
  },
  {
   "cell_type": "code",
   "execution_count": 86,
   "id": "6347a762",
   "metadata": {},
   "outputs": [
    {
     "data": {
      "text/html": [
       "<div>\n",
       "<style scoped>\n",
       "    .dataframe tbody tr th:only-of-type {\n",
       "        vertical-align: middle;\n",
       "    }\n",
       "\n",
       "    .dataframe tbody tr th {\n",
       "        vertical-align: top;\n",
       "    }\n",
       "\n",
       "    .dataframe thead th {\n",
       "        text-align: right;\n",
       "    }\n",
       "</style>\n",
       "<table border=\"1\" class=\"dataframe\">\n",
       "  <thead>\n",
       "    <tr style=\"text-align: right;\">\n",
       "      <th></th>\n",
       "      <th>title</th>\n",
       "      <th>text</th>\n",
       "      <th>date</th>\n",
       "      <th>fake_or_factual</th>\n",
       "      <th>text_clean</th>\n",
       "      <th>vader_sentiment_score</th>\n",
       "    </tr>\n",
       "  </thead>\n",
       "  <tbody>\n",
       "    <tr>\n",
       "      <th>0</th>\n",
       "      <td>HOLLYWEIRD LIB SUSAN SARANDON Compares Muslim ...</td>\n",
       "      <td>There are two small problems with your analogy...</td>\n",
       "      <td>Dec 30, 2015</td>\n",
       "      <td>Fake News</td>\n",
       "      <td>[two, small, problem, analogy, susan, jesus, m...</td>\n",
       "      <td>-0.3660</td>\n",
       "    </tr>\n",
       "    <tr>\n",
       "      <th>1</th>\n",
       "      <td>Elijah Cummings Called Trump Out To His Face ...</td>\n",
       "      <td>Buried in Trump s bonkers interview with New Y...</td>\n",
       "      <td>April 6, 2017</td>\n",
       "      <td>Fake News</td>\n",
       "      <td>[buried, trump, bonkers, interview, new, york,...</td>\n",
       "      <td>-0.8197</td>\n",
       "    </tr>\n",
       "    <tr>\n",
       "      <th>2</th>\n",
       "      <td>Hillary Clinton Says Half Her Cabinet Will Be...</td>\n",
       "      <td>Women make up over 50 percent of this country,...</td>\n",
       "      <td>April 26, 2016</td>\n",
       "      <td>Fake News</td>\n",
       "      <td>[woman, make, 50, percent, country, grossly, u...</td>\n",
       "      <td>0.9779</td>\n",
       "    </tr>\n",
       "    <tr>\n",
       "      <th>3</th>\n",
       "      <td>Russian bombing of U.S.-backed forces being di...</td>\n",
       "      <td>WASHINGTON (Reuters) - U.S. Defense Secretary ...</td>\n",
       "      <td>September 18, 2017</td>\n",
       "      <td>Factual News</td>\n",
       "      <td>[u, defense, secretary, jim, mattis, said, mon...</td>\n",
       "      <td>-0.3400</td>\n",
       "    </tr>\n",
       "    <tr>\n",
       "      <th>4</th>\n",
       "      <td>Britain says window to restore Northern Irelan...</td>\n",
       "      <td>BELFAST (Reuters) - Northern Ireland s politic...</td>\n",
       "      <td>September 4, 2017</td>\n",
       "      <td>Factual News</td>\n",
       "      <td>[northern, ireland, political, party, rapidly,...</td>\n",
       "      <td>0.8590</td>\n",
       "    </tr>\n",
       "  </tbody>\n",
       "</table>\n",
       "</div>"
      ],
      "text/plain": [
       "                                               title  \\\n",
       "0  HOLLYWEIRD LIB SUSAN SARANDON Compares Muslim ...   \n",
       "1   Elijah Cummings Called Trump Out To His Face ...   \n",
       "2   Hillary Clinton Says Half Her Cabinet Will Be...   \n",
       "3  Russian bombing of U.S.-backed forces being di...   \n",
       "4  Britain says window to restore Northern Irelan...   \n",
       "\n",
       "                                                text                 date  \\\n",
       "0  There are two small problems with your analogy...         Dec 30, 2015   \n",
       "1  Buried in Trump s bonkers interview with New Y...        April 6, 2017   \n",
       "2  Women make up over 50 percent of this country,...       April 26, 2016   \n",
       "3  WASHINGTON (Reuters) - U.S. Defense Secretary ...  September 18, 2017    \n",
       "4  BELFAST (Reuters) - Northern Ireland s politic...   September 4, 2017    \n",
       "\n",
       "  fake_or_factual                                         text_clean  \\\n",
       "0       Fake News  [two, small, problem, analogy, susan, jesus, m...   \n",
       "1       Fake News  [buried, trump, bonkers, interview, new, york,...   \n",
       "2       Fake News  [woman, make, 50, percent, country, grossly, u...   \n",
       "3    Factual News  [u, defense, secretary, jim, mattis, said, mon...   \n",
       "4    Factual News  [northern, ireland, political, party, rapidly,...   \n",
       "\n",
       "   vader_sentiment_score  \n",
       "0                -0.3660  \n",
       "1                -0.8197  \n",
       "2                 0.9779  \n",
       "3                -0.3400  \n",
       "4                 0.8590  "
      ]
     },
     "execution_count": 86,
     "metadata": {},
     "output_type": "execute_result"
    }
   ],
   "source": [
    "data.head()"
   ]
  },
  {
   "cell_type": "code",
   "execution_count": 87,
   "id": "5305da29",
   "metadata": {},
   "outputs": [],
   "source": [
    "bins=[-1,-0.1,0.1,1]\n",
    "names=[\"nagative\",\"neutral\",\"positive\"]\n",
    "data[\"vader_sentiment_label\"]=pd.cut(data[\"vader_sentiment_score\"],bins,labels=names)"
   ]
  },
  {
   "cell_type": "code",
   "execution_count": 88,
   "id": "a0760599",
   "metadata": {},
   "outputs": [
    {
     "data": {
      "text/html": [
       "<div>\n",
       "<style scoped>\n",
       "    .dataframe tbody tr th:only-of-type {\n",
       "        vertical-align: middle;\n",
       "    }\n",
       "\n",
       "    .dataframe tbody tr th {\n",
       "        vertical-align: top;\n",
       "    }\n",
       "\n",
       "    .dataframe thead th {\n",
       "        text-align: right;\n",
       "    }\n",
       "</style>\n",
       "<table border=\"1\" class=\"dataframe\">\n",
       "  <thead>\n",
       "    <tr style=\"text-align: right;\">\n",
       "      <th></th>\n",
       "      <th>title</th>\n",
       "      <th>text</th>\n",
       "      <th>date</th>\n",
       "      <th>fake_or_factual</th>\n",
       "      <th>text_clean</th>\n",
       "      <th>vader_sentiment_score</th>\n",
       "      <th>vader_sentiment_label</th>\n",
       "    </tr>\n",
       "  </thead>\n",
       "  <tbody>\n",
       "    <tr>\n",
       "      <th>0</th>\n",
       "      <td>HOLLYWEIRD LIB SUSAN SARANDON Compares Muslim ...</td>\n",
       "      <td>There are two small problems with your analogy...</td>\n",
       "      <td>Dec 30, 2015</td>\n",
       "      <td>Fake News</td>\n",
       "      <td>[two, small, problem, analogy, susan, jesus, m...</td>\n",
       "      <td>-0.3660</td>\n",
       "      <td>nagative</td>\n",
       "    </tr>\n",
       "    <tr>\n",
       "      <th>1</th>\n",
       "      <td>Elijah Cummings Called Trump Out To His Face ...</td>\n",
       "      <td>Buried in Trump s bonkers interview with New Y...</td>\n",
       "      <td>April 6, 2017</td>\n",
       "      <td>Fake News</td>\n",
       "      <td>[buried, trump, bonkers, interview, new, york,...</td>\n",
       "      <td>-0.8197</td>\n",
       "      <td>nagative</td>\n",
       "    </tr>\n",
       "    <tr>\n",
       "      <th>2</th>\n",
       "      <td>Hillary Clinton Says Half Her Cabinet Will Be...</td>\n",
       "      <td>Women make up over 50 percent of this country,...</td>\n",
       "      <td>April 26, 2016</td>\n",
       "      <td>Fake News</td>\n",
       "      <td>[woman, make, 50, percent, country, grossly, u...</td>\n",
       "      <td>0.9779</td>\n",
       "      <td>positive</td>\n",
       "    </tr>\n",
       "    <tr>\n",
       "      <th>3</th>\n",
       "      <td>Russian bombing of U.S.-backed forces being di...</td>\n",
       "      <td>WASHINGTON (Reuters) - U.S. Defense Secretary ...</td>\n",
       "      <td>September 18, 2017</td>\n",
       "      <td>Factual News</td>\n",
       "      <td>[u, defense, secretary, jim, mattis, said, mon...</td>\n",
       "      <td>-0.3400</td>\n",
       "      <td>nagative</td>\n",
       "    </tr>\n",
       "    <tr>\n",
       "      <th>4</th>\n",
       "      <td>Britain says window to restore Northern Irelan...</td>\n",
       "      <td>BELFAST (Reuters) - Northern Ireland s politic...</td>\n",
       "      <td>September 4, 2017</td>\n",
       "      <td>Factual News</td>\n",
       "      <td>[northern, ireland, political, party, rapidly,...</td>\n",
       "      <td>0.8590</td>\n",
       "      <td>positive</td>\n",
       "    </tr>\n",
       "  </tbody>\n",
       "</table>\n",
       "</div>"
      ],
      "text/plain": [
       "                                               title  \\\n",
       "0  HOLLYWEIRD LIB SUSAN SARANDON Compares Muslim ...   \n",
       "1   Elijah Cummings Called Trump Out To His Face ...   \n",
       "2   Hillary Clinton Says Half Her Cabinet Will Be...   \n",
       "3  Russian bombing of U.S.-backed forces being di...   \n",
       "4  Britain says window to restore Northern Irelan...   \n",
       "\n",
       "                                                text                 date  \\\n",
       "0  There are two small problems with your analogy...         Dec 30, 2015   \n",
       "1  Buried in Trump s bonkers interview with New Y...        April 6, 2017   \n",
       "2  Women make up over 50 percent of this country,...       April 26, 2016   \n",
       "3  WASHINGTON (Reuters) - U.S. Defense Secretary ...  September 18, 2017    \n",
       "4  BELFAST (Reuters) - Northern Ireland s politic...   September 4, 2017    \n",
       "\n",
       "  fake_or_factual                                         text_clean  \\\n",
       "0       Fake News  [two, small, problem, analogy, susan, jesus, m...   \n",
       "1       Fake News  [buried, trump, bonkers, interview, new, york,...   \n",
       "2       Fake News  [woman, make, 50, percent, country, grossly, u...   \n",
       "3    Factual News  [u, defense, secretary, jim, mattis, said, mon...   \n",
       "4    Factual News  [northern, ireland, political, party, rapidly,...   \n",
       "\n",
       "   vader_sentiment_score vader_sentiment_label  \n",
       "0                -0.3660              nagative  \n",
       "1                -0.8197              nagative  \n",
       "2                 0.9779              positive  \n",
       "3                -0.3400              nagative  \n",
       "4                 0.8590              positive  "
      ]
     },
     "execution_count": 88,
     "metadata": {},
     "output_type": "execute_result"
    }
   ],
   "source": [
    "data.head()"
   ]
  },
  {
   "cell_type": "code",
   "execution_count": 90,
   "id": "ad99b554",
   "metadata": {},
   "outputs": [
    {
     "data": {
      "text/plain": [
       "<AxesSubplot:>"
      ]
     },
     "execution_count": 90,
     "metadata": {},
     "output_type": "execute_result"
    },
    {
     "data": {
      "image/png": "[encoded data removed]",
      "text/plain": [
       "<Figure size 1200x800 with 1 Axes>"
      ]
     },
     "metadata": {},
     "output_type": "display_data"
    }
   ],
   "source": [
    "data[\"vader_sentiment_label\"].value_counts().plot.bar(color=default_plot_colour)"
   ]
  },
  {
   "cell_type": "code",
   "execution_count": 91,
   "id": "9c696d86",
   "metadata": {},
   "outputs": [
    {
     "data": {
      "text/plain": [
       "[Text(0.5, 1.0, 'Sentiment by News Type')]"
      ]
     },
     "execution_count": 91,
     "metadata": {},
     "output_type": "execute_result"
    },
    {
     "data": {
      "image/png": "[encoded data removed]",
      "text/plain": [
       "<Figure size 1200x800 with 1 Axes>"
      ]
     },
     "metadata": {},
     "output_type": "display_data"
    }
   ],
   "source": [
    "sns.countplot(x=\"fake_or_factual\",hue=\"vader_sentiment_label\",\n",
    "             palette=sns.color_palette(\"hls\"),\n",
    "             data=data).set(title=\"Sentiment by News Type\")"
   ]
  },
  {
   "cell_type": "markdown",
   "id": "b00ad2aa",
   "metadata": {},
   "source": [
    "## Topics observations"
   ]
  },
  {
   "cell_type": "markdown",
   "id": "ec30c5aa",
   "metadata": {},
   "source": [
    "### LDA"
   ]
  },
  {
   "cell_type": "code",
   "execution_count": 92,
   "id": "5d6a824f",
   "metadata": {},
   "outputs": [],
   "source": [
    "fake_news_text= data[data[\"fake_or_factual\"]== \"Fake News\"][\"text_clean\"].reset_index(drop=True)"
   ]
  },
  {
   "cell_type": "code",
   "execution_count": 93,
   "id": "9a0f46e9",
   "metadata": {},
   "outputs": [],
   "source": [
    "dictionary_fake=corpora.Dictionary(fake_news_text)"
   ]
  },
  {
   "cell_type": "code",
   "execution_count": 94,
   "id": "903e78c8",
   "metadata": {},
   "outputs": [
    {
     "data": {
      "text/plain": [
       "<gensim.corpora.dictionary.Dictionary at 0x1d28ca7dc40>"
      ]
     },
     "execution_count": 94,
     "metadata": {},
     "output_type": "execute_result"
    }
   ],
   "source": [
    "dictionary_fake"
   ]
  },
  {
   "cell_type": "code",
   "execution_count": 95,
   "id": "680028f7",
   "metadata": {},
   "outputs": [],
   "source": [
    "doc_term_fake=[dictionary_fake.doc2bow(text) for text in fake_news_text]"
   ]
  },
  {
   "cell_type": "code",
   "execution_count": 96,
   "id": "cb9e45b3",
   "metadata": {},
   "outputs": [],
   "source": [
    "coherence_values=[]\n",
    "model_list=[]\n",
    "\n",
    "min_topics=2\n",
    "max_topics=11\n",
    "\n",
    "for num_topics_i in range(min_topics,max_topics+1):\n",
    "    model=gensim.models.LdaModel(doc_term_fake,num_topics=num_topics_i,id2word=dictionary_fake)\n",
    "    model_list.append(model)\n",
    "    coherence_model=CoherenceModel(model=model,texts=fake_news_text,dictionary=dictionary_fake,coherence=\"c_v\")\n",
    "    coherence_values.append(coherence_model.get_coherence())"
   ]
  },
  {
   "cell_type": "code",
   "execution_count": 98,
   "id": "b63ee9ca",
   "metadata": {},
   "outputs": [
    {
     "data": {
      "image/png": "[encoded data removed]",
      "text/plain": [
       "<Figure size 1200x800 with 1 Axes>"
      ]
     },
     "metadata": {},
     "output_type": "display_data"
    }
   ],
   "source": [
    "plt.plot(range(min_topics,max_topics+1),coherence_values)\n",
    "plt.xlabel(\"Number of Topics\")\n",
    "plt.ylabel(\"Coherence Scores\")\n",
    "plt.legend((\"coherence_values\"),loc=\"best\")\n",
    "plt.show()"
   ]
  },
  {
   "cell_type": "code",
   "execution_count": 99,
   "id": "6747c393",
   "metadata": {},
   "outputs": [],
   "source": [
    "nums_topics_lda=6\n",
    "lda_model=gensim.models.LdaModel(corpus=doc_term_fake,num_topics=nums_topics_lda,id2word=dictionary_fake)"
   ]
  },
  {
   "cell_type": "code",
   "execution_count": 100,
   "id": "301b7c12",
   "metadata": {},
   "outputs": [
    {
     "data": {
      "text/plain": [
       "[(0,\n",
       "  '0.013*\"trump\" + 0.005*\"said\" + 0.004*\"state\" + 0.004*\"clinton\" + 0.004*\"republican\" + 0.004*\"time\" + 0.003*\"would\" + 0.003*\"people\" + 0.003*\"hillary\" + 0.003*\"president\"'),\n",
       " (1,\n",
       "  '0.008*\"trump\" + 0.005*\"clinton\" + 0.004*\"president\" + 0.003*\"one\" + 0.003*\"would\" + 0.003*\"state\" + 0.003*\"woman\" + 0.003*\"year\" + 0.003*\"u\" + 0.002*\"even\"'),\n",
       " (2,\n",
       "  '0.010*\"trump\" + 0.007*\"clinton\" + 0.005*\"state\" + 0.005*\"one\" + 0.004*\"president\" + 0.004*\"would\" + 0.004*\"said\" + 0.004*\"republican\" + 0.003*\"people\" + 0.003*\"donald\"'),\n",
       " (3,\n",
       "  '0.012*\"trump\" + 0.006*\"said\" + 0.006*\"president\" + 0.005*\"u\" + 0.004*\"obama\" + 0.004*\"state\" + 0.004*\"woman\" + 0.004*\"one\" + 0.003*\"time\" + 0.003*\"people\"'),\n",
       " (4,\n",
       "  '0.014*\"trump\" + 0.006*\"would\" + 0.005*\"said\" + 0.004*\"one\" + 0.004*\"republican\" + 0.004*\"state\" + 0.004*\"president\" + 0.003*\"american\" + 0.003*\"donald\" + 0.003*\"time\"'),\n",
       " (5,\n",
       "  '0.007*\"trump\" + 0.004*\"state\" + 0.004*\"u\" + 0.004*\"president\" + 0.003*\"said\" + 0.003*\"clinton\" + 0.003*\"time\" + 0.003*\"official\" + 0.002*\"law\" + 0.002*\"people\"')]"
      ]
     },
     "execution_count": 100,
     "metadata": {},
     "output_type": "execute_result"
    }
   ],
   "source": [
    "lda_model.print_topics(num_topics=nums_topics_lda,num_words=10)"
   ]
  },
  {
   "cell_type": "markdown",
   "id": "d1a1bebe",
   "metadata": {},
   "source": [
    "## TFIDF "
   ]
  },
  {
   "cell_type": "code",
   "execution_count": 105,
   "id": "e13cef1e",
   "metadata": {},
   "outputs": [],
   "source": [
    "def tfidf_corpus(doc_term_matrix):\n",
    "    tfidf=TfidfModel(corpus=doc_term_matrix,normalize=True)\n",
    "    corpus_tfidf= tfidf[doc_term_matrix]\n",
    "    return corpus_tfidf"
   ]
  },
  {
   "cell_type": "code",
   "execution_count": 106,
   "id": "efac335d",
   "metadata": {},
   "outputs": [],
   "source": [
    "def get_coherence_scores(corpus,dictionary,text,min_topics,max_topics):\n",
    "    coherence_values=[]\n",
    "    model_list=[]\n",
    "    for num_topics_i in range(min_topics,max_topics+1):\n",
    "        model=LsiModel(corpus,num_topics= num_topics_i,id2word=dictionary )\n",
    "        model_list.append(model)\n",
    "        coherence_model=CoherenceModel(model=model,texts=text,dictionary=dictionary,coherence=\"c_v\")\n",
    "        coherence_values.append(coherence_model.get_coherence())\n",
    "    plt.plot(range(min_topics,max_topics+1),coherence_values)\n",
    "    plt.xlabel(\"number of topics\")\n",
    "    plt.ylabel(\"coherence score \")\n",
    "    plt.legend((\"coherence_values\"),loc=\"best\")\n",
    "    plt.show()"
   ]
  },
  {
   "cell_type": "code",
   "execution_count": 107,
   "id": "9ad97dd9",
   "metadata": {},
   "outputs": [],
   "source": [
    "corpus_tfidf_fake=tfidf_corpus(doc_term_fake)"
   ]
  },
  {
   "cell_type": "code",
   "execution_count": 108,
   "id": "841890b6",
   "metadata": {},
   "outputs": [
    {
     "data": {
      "image/png": "[encoded data removed]",
      "text/plain": [
       "<Figure size 1200x800 with 1 Axes>"
      ]
     },
     "metadata": {},
     "output_type": "display_data"
    }
   ],
   "source": [
    "get_coherence_scores(corpus_tfidf_fake,dictionary_fake,fake_news_text,min_topics=2,max_topics=11)"
   ]
  },
  {
   "cell_type": "code",
   "execution_count": 111,
   "id": "15a54286",
   "metadata": {},
   "outputs": [],
   "source": [
    "lsa_model=LsiModel(corpus_tfidf_fake,id2word=dictionary_fake,num_topics=7)"
   ]
  },
  {
   "cell_type": "code",
   "execution_count": 112,
   "id": "a333399f",
   "metadata": {},
   "outputs": [
    {
     "data": {
      "text/plain": [
       "[(0,\n",
       "  '0.190*\"trump\" + 0.136*\"clinton\" + 0.095*\"hillary\" + 0.094*\"obama\" + 0.089*\"president\" + 0.087*\"woman\" + 0.078*\"republican\" + 0.077*\"party\" + 0.077*\"flynn\" + 0.074*\"candidate\"'),\n",
       " (1,\n",
       "  '-0.325*\"boiler\" + -0.284*\"acr\" + -0.244*\"room\" + -0.240*\"pm\" + -0.186*\"broadcast\" + -0.180*\"radio\" + -0.142*\"animal\" + -0.142*\"tune\" + -0.134*\"jay\" + -0.132*\"episode\"'),\n",
       " (2,\n",
       "  '-0.622*\"flynn\" + -0.182*\"immunity\" + -0.122*\"nana\" + -0.116*\"mr\" + -0.110*\"30\" + -0.108*\"march\" + -0.102*\"russian\" + -0.100*\"source\" + 0.095*\"school\" + -0.092*\"adviser\"'),\n",
       " (3,\n",
       "  '0.217*\"clinton\" + -0.185*\"school\" + -0.175*\"student\" + 0.141*\"hillary\" + -0.122*\"flynn\" + -0.121*\"county\" + 0.110*\"sander\" + 0.097*\"debate\" + 0.097*\"woman\" + 0.091*\"nominee\"'),\n",
       " (4,\n",
       "  '0.200*\"email\" + -0.194*\"trump\" + 0.168*\"dnc\" + -0.143*\"flynn\" + 0.126*\"clinton\" + -0.112*\"cruz\" + 0.111*\"department\" + 0.110*\"rich\" + 0.102*\"wikileaks\" + 0.099*\"sander\"'),\n",
       " (5,\n",
       "  '-0.276*\"student\" + -0.162*\"conference\" + -0.160*\"school\" + -0.138*\"trump\" + 0.124*\"obama\" + 0.124*\"mccain\" + -0.103*\"flynn\" + -0.102*\"campus\" + -0.101*\"yearbook\" + 0.101*\"putin\"'),\n",
       " (6,\n",
       "  '0.348*\"conference\" + -0.194*\"flynn\" + 0.186*\"press\" + 0.171*\"mark\" + 0.165*\"levin\" + 0.165*\"hannity\" + 0.165*\"sean\" + 0.141*\"discussing\" + 0.134*\"iowa\" + 0.112*\"immigration\"')]"
      ]
     },
     "execution_count": 112,
     "metadata": {},
     "output_type": "execute_result"
    }
   ],
   "source": [
    "lsa_model.print_topics()"
   ]
  },
  {
   "cell_type": "markdown",
   "id": "80632277",
   "metadata": {},
   "source": [
    "## Classification model"
   ]
  },
  {
   "cell_type": "code",
   "execution_count": 113,
   "id": "423e0c81",
   "metadata": {},
   "outputs": [
    {
     "data": {
      "text/html": [
       "<div>\n",
       "<style scoped>\n",
       "    .dataframe tbody tr th:only-of-type {\n",
       "        vertical-align: middle;\n",
       "    }\n",
       "\n",
       "    .dataframe tbody tr th {\n",
       "        vertical-align: top;\n",
       "    }\n",
       "\n",
       "    .dataframe thead th {\n",
       "        text-align: right;\n",
       "    }\n",
       "</style>\n",
       "<table border=\"1\" class=\"dataframe\">\n",
       "  <thead>\n",
       "    <tr style=\"text-align: right;\">\n",
       "      <th></th>\n",
       "      <th>title</th>\n",
       "      <th>text</th>\n",
       "      <th>date</th>\n",
       "      <th>fake_or_factual</th>\n",
       "      <th>text_clean</th>\n",
       "      <th>vader_sentiment_score</th>\n",
       "      <th>vader_sentiment_label</th>\n",
       "    </tr>\n",
       "  </thead>\n",
       "  <tbody>\n",
       "    <tr>\n",
       "      <th>0</th>\n",
       "      <td>HOLLYWEIRD LIB SUSAN SARANDON Compares Muslim ...</td>\n",
       "      <td>There are two small problems with your analogy...</td>\n",
       "      <td>Dec 30, 2015</td>\n",
       "      <td>Fake News</td>\n",
       "      <td>[two, small, problem, analogy, susan, jesus, m...</td>\n",
       "      <td>-0.3660</td>\n",
       "      <td>nagative</td>\n",
       "    </tr>\n",
       "    <tr>\n",
       "      <th>1</th>\n",
       "      <td>Elijah Cummings Called Trump Out To His Face ...</td>\n",
       "      <td>Buried in Trump s bonkers interview with New Y...</td>\n",
       "      <td>April 6, 2017</td>\n",
       "      <td>Fake News</td>\n",
       "      <td>[buried, trump, bonkers, interview, new, york,...</td>\n",
       "      <td>-0.8197</td>\n",
       "      <td>nagative</td>\n",
       "    </tr>\n",
       "    <tr>\n",
       "      <th>2</th>\n",
       "      <td>Hillary Clinton Says Half Her Cabinet Will Be...</td>\n",
       "      <td>Women make up over 50 percent of this country,...</td>\n",
       "      <td>April 26, 2016</td>\n",
       "      <td>Fake News</td>\n",
       "      <td>[woman, make, 50, percent, country, grossly, u...</td>\n",
       "      <td>0.9779</td>\n",
       "      <td>positive</td>\n",
       "    </tr>\n",
       "    <tr>\n",
       "      <th>3</th>\n",
       "      <td>Russian bombing of U.S.-backed forces being di...</td>\n",
       "      <td>WASHINGTON (Reuters) - U.S. Defense Secretary ...</td>\n",
       "      <td>September 18, 2017</td>\n",
       "      <td>Factual News</td>\n",
       "      <td>[u, defense, secretary, jim, mattis, said, mon...</td>\n",
       "      <td>-0.3400</td>\n",
       "      <td>nagative</td>\n",
       "    </tr>\n",
       "    <tr>\n",
       "      <th>4</th>\n",
       "      <td>Britain says window to restore Northern Irelan...</td>\n",
       "      <td>BELFAST (Reuters) - Northern Ireland s politic...</td>\n",
       "      <td>September 4, 2017</td>\n",
       "      <td>Factual News</td>\n",
       "      <td>[northern, ireland, political, party, rapidly,...</td>\n",
       "      <td>0.8590</td>\n",
       "      <td>positive</td>\n",
       "    </tr>\n",
       "  </tbody>\n",
       "</table>\n",
       "</div>"
      ],
      "text/plain": [
       "                                               title  \\\n",
       "0  HOLLYWEIRD LIB SUSAN SARANDON Compares Muslim ...   \n",
       "1   Elijah Cummings Called Trump Out To His Face ...   \n",
       "2   Hillary Clinton Says Half Her Cabinet Will Be...   \n",
       "3  Russian bombing of U.S.-backed forces being di...   \n",
       "4  Britain says window to restore Northern Irelan...   \n",
       "\n",
       "                                                text                 date  \\\n",
       "0  There are two small problems with your analogy...         Dec 30, 2015   \n",
       "1  Buried in Trump s bonkers interview with New Y...        April 6, 2017   \n",
       "2  Women make up over 50 percent of this country,...       April 26, 2016   \n",
       "3  WASHINGTON (Reuters) - U.S. Defense Secretary ...  September 18, 2017    \n",
       "4  BELFAST (Reuters) - Northern Ireland s politic...   September 4, 2017    \n",
       "\n",
       "  fake_or_factual                                         text_clean  \\\n",
       "0       Fake News  [two, small, problem, analogy, susan, jesus, m...   \n",
       "1       Fake News  [buried, trump, bonkers, interview, new, york,...   \n",
       "2       Fake News  [woman, make, 50, percent, country, grossly, u...   \n",
       "3    Factual News  [u, defense, secretary, jim, mattis, said, mon...   \n",
       "4    Factual News  [northern, ireland, political, party, rapidly,...   \n",
       "\n",
       "   vader_sentiment_score vader_sentiment_label  \n",
       "0                -0.3660              nagative  \n",
       "1                -0.8197              nagative  \n",
       "2                 0.9779              positive  \n",
       "3                -0.3400              nagative  \n",
       "4                 0.8590              positive  "
      ]
     },
     "execution_count": 113,
     "metadata": {},
     "output_type": "execute_result"
    }
   ],
   "source": [
    "data.head()"
   ]
  },
  {
   "cell_type": "code",
   "execution_count": 114,
   "id": "a5e02afb",
   "metadata": {},
   "outputs": [],
   "source": [
    "X=[\",\".join(map(str,l)) for l in data[\"text_clean\"]]"
   ]
  },
  {
   "cell_type": "code",
   "execution_count": 116,
   "id": "6287c88e",
   "metadata": {},
   "outputs": [],
   "source": [
    "Y=data[\"fake_or_factual\"]"
   ]
  },
  {
   "cell_type": "code",
   "execution_count": 117,
   "id": "074cdcbd",
   "metadata": {},
   "outputs": [],
   "source": [
    "countvec=CountVectorizer()"
   ]
  },
  {
   "cell_type": "code",
   "execution_count": 124,
   "id": "e44f4ecb",
   "metadata": {},
   "outputs": [],
   "source": [
    "countvec_fit=countvec.fit_transform(X)"
   ]
  },
  {
   "cell_type": "code",
   "execution_count": 125,
   "id": "3a74f71c",
   "metadata": {},
   "outputs": [],
   "source": [
    "bag_of_words=pd.DataFrame(countvec_fit.toarray(),columns=countvec.get_feature_names_out())"
   ]
  },
  {
   "cell_type": "code",
   "execution_count": 136,
   "id": "dbe56e5b",
   "metadata": {},
   "outputs": [],
   "source": [
    "X_train,X_test,Y_train,Y_test=train_test_split(bag_of_words,Y,test_size=0.3,random_state=365)"
   ]
  },
  {
   "cell_type": "markdown",
   "id": "7dd58f6c",
   "metadata": {},
   "source": [
    "### Logistic Regression"
   ]
  },
  {
   "cell_type": "code",
   "execution_count": 137,
   "id": "84efec1f",
   "metadata": {},
   "outputs": [],
   "source": [
    "lr=LogisticRegression(random_state=85).fit(X_train,Y_train)"
   ]
  },
  {
   "cell_type": "code",
   "execution_count": 138,
   "id": "128949b5",
   "metadata": {},
   "outputs": [],
   "source": [
    "y_pred_lr=lr.predict(X_test)"
   ]
  },
  {
   "cell_type": "code",
   "execution_count": 139,
   "id": "f0a5ec9b",
   "metadata": {},
   "outputs": [
    {
     "data": {
      "text/plain": [
       "0.8666666666666667"
      ]
     },
     "execution_count": 139,
     "metadata": {},
     "output_type": "execute_result"
    }
   ],
   "source": [
    "accuracy_score(y_pred_lr,Y_test)"
   ]
  },
  {
   "cell_type": "code",
   "execution_count": 140,
   "id": "49ff0e32",
   "metadata": {},
   "outputs": [
    {
     "name": "stdout",
     "output_type": "stream",
     "text": [
      "              precision    recall  f1-score   support\n",
      "\n",
      "Factual News       0.81      0.93      0.87        28\n",
      "   Fake News       0.93      0.81      0.87        32\n",
      "\n",
      "    accuracy                           0.87        60\n",
      "   macro avg       0.87      0.87      0.87        60\n",
      "weighted avg       0.87      0.87      0.87        60\n",
      "\n"
     ]
    }
   ],
   "source": [
    "print(classification_report(Y_test,y_pred_lr))"
   ]
  },
  {
   "cell_type": "code",
   "execution_count": 146,
   "id": "bb2eec26",
   "metadata": {},
   "outputs": [],
   "source": [
    "svm=SGDClassifier(random_state=365).fit(X_train,Y_train)\n"
   ]
  },
  {
   "cell_type": "code",
   "execution_count": 147,
   "id": "b1eb292a",
   "metadata": {},
   "outputs": [],
   "source": [
    "y_pred_svm=svm.predict(X_test)"
   ]
  },
  {
   "cell_type": "code",
   "execution_count": 148,
   "id": "b349f1fa",
   "metadata": {},
   "outputs": [
    {
     "data": {
      "text/plain": [
       "0.9"
      ]
     },
     "execution_count": 148,
     "metadata": {},
     "output_type": "execute_result"
    }
   ],
   "source": [
    "accuracy_score(y_pred_svm,Y_test)"
   ]
  },
  {
   "cell_type": "code",
   "execution_count": 149,
   "id": "ec70f271",
   "metadata": {},
   "outputs": [
    {
     "name": "stdout",
     "output_type": "stream",
     "text": [
      "              precision    recall  f1-score   support\n",
      "\n",
      "Factual News       0.92      0.86      0.89        28\n",
      "   Fake News       0.88      0.94      0.91        32\n",
      "\n",
      "    accuracy                           0.90        60\n",
      "   macro avg       0.90      0.90      0.90        60\n",
      "weighted avg       0.90      0.90      0.90        60\n",
      "\n"
     ]
    }
   ],
   "source": [
    "print(classification_report(Y_test,y_pred_svm))"
   ]
  },
  {
   "cell_type": "code",
   "execution_count": null,
   "id": "7b066afc",
   "metadata": {},
   "outputs": [],
   "source": []
  }
 ],
 "metadata": {
  "kernelspec": {
   "display_name": "Python 3 (ipykernel)",
   "language": "python",
   "name": "python3"
  },
  "language_info": {
   "codemirror_mode": {
    "name": "ipython",
    "version": 3
   },
   "file_extension": ".py",
   "mimetype": "text/x-python",
   "name": "python",
   "nbconvert_exporter": "python",
   "pygments_lexer": "ipython3",
   "version": "3.9.13"
  }
 },
 "nbformat": 4,
 "nbformat_minor": 5
}
